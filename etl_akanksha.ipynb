{
  "cells": [
    {
      "cell_type": "markdown",
      "metadata": {
        "id": "view-in-github",
        "colab_type": "text"
      },
      "source": [
        "<a href=\"https://colab.research.google.com/github/maneakansha36/my_first_repository/blob/main/etl_akanksha.ipynb\" target=\"_parent\"><img src=\"https://colab.research.google.com/assets/colab-badge.svg\" alt=\"Open In Colab\"/></a>"
      ]
    },
    {
      "cell_type": "markdown",
      "metadata": {
        "id": "cmink7yae3bs"
      },
      "source": [
        "# Load the dataset into a DataFrame\n",
        "#  Identify number of records and unique locations\n",
        "# Print top 5 rows and column names"
      ]
    },
    {
      "cell_type": "code",
      "execution_count": 37,
      "metadata": {
        "colab": {
          "base_uri": "https://localhost:8080/"
        },
        "id": "HlV9p9tfevNj",
        "outputId": "0193803d-9c54-4a55-b507-09a304e36b5c"
      },
      "outputs": [
        {
          "output_type": "stream",
          "name": "stdout",
          "text": [
            "Total records: 9912\n",
            "Unique locations: 5249\n",
            "Column names: ['time', 'latitude', 'longitude', 'depth', 'mag', 'magType', 'nst', 'gap', 'dmin', 'rms', 'net', 'id', 'updated', 'place', 'type', 'horizontalError', 'depthError', 'magError', 'magNst', 'status', 'locationSource', 'magSource']\n",
            "                       time   latitude   longitude  depth   mag magType   nst  \\\n",
            "0  2025-09-21T10:29:09.580Z  33.535999 -116.718002   6.14  0.96      ml  36.0   \n",
            "1  2025-09-21T10:20:13.414Z  62.887000 -148.835800  62.50  1.30      ml   NaN   \n",
            "2  2025-09-21T10:16:53.678Z  38.026000 -118.575800   0.00  1.40      ml  11.0   \n",
            "3  2025-09-21T10:13:02.706Z  60.093100 -152.891000  95.30  0.90      ml   NaN   \n",
            "4  2025-09-21T10:09:29.210Z  38.830002 -122.804497   1.94  0.70      md  10.0   \n",
            "\n",
            "      gap      dmin     rms  ...                   updated  \\\n",
            "0   42.00  0.033460  0.1400  ...  2025-09-21T10:31:31.762Z   \n",
            "1     NaN       NaN  0.3600  ...  2025-09-21T10:21:50.080Z   \n",
            "2  175.03  0.232000  0.3322  ...  2025-09-21T10:20:06.136Z   \n",
            "3     NaN       NaN  0.4800  ...  2025-09-21T10:14:41.615Z   \n",
            "4   82.00  0.007906  0.0200  ...  2025-09-21T10:27:17.503Z   \n",
            "\n",
            "                               place        type horizontalError depthError  \\\n",
            "0               5 km WSW of Anza, CA  earthquake            0.22       0.61   \n",
            "1        56 km S of Cantwell, Alaska  earthquake             NaN       0.50   \n",
            "2    24 km NNW of Benton, California  earthquake             NaN      23.70   \n",
            "3  66 km WNW of Happy Valley, Alaska  earthquake             NaN       1.20   \n",
            "4               7 km WNW of Cobb, CA  earthquake            0.53       0.55   \n",
            "\n",
            "   magError  magNst     status  locationSource magSource  \n",
            "0     0.161    11.0  automatic              ci        ci  \n",
            "1       NaN     NaN  automatic              ak        ak  \n",
            "2     0.280     5.0  automatic              nn        nn  \n",
            "3       NaN     NaN  automatic              ak        ak  \n",
            "4     0.230     9.0  automatic              nc        nc  \n",
            "\n",
            "[5 rows x 22 columns]\n"
          ]
        }
      ],
      "source": [
        "import pandas as pd\n",
        "import sqlite3\n",
        "\n",
        "# Load dataset\n",
        "url = \"https://earthquake.usgs.gov/earthquakes/feed/v1.0/summary/all_month.csv\"\n",
        "df = pd.read_csv(url)\n",
        "\n",
        "# Number of records\n",
        "print(\"Total records:\", len(df))\n",
        "\n",
        "# Unique locations (place column)\n",
        "print(\"Unique locations:\", df['place'].nunique())\n",
        "\n",
        "# Column names\n",
        "print(\"Column names:\", df.columns.tolist())\n",
        "\n",
        "# Top 5 rows\n",
        "print(df.head())\n",
        "\n"
      ]
    },
    {
      "cell_type": "markdown",
      "metadata": {
        "id": "2NYxfHGUmwv6"
      },
      "source": [
        "# **Convert time to datetime**"
      ]
    },
    {
      "cell_type": "code",
      "execution_count": null,
      "metadata": {
        "id": "s6SfBjQwnfz-"
      },
      "outputs": [],
      "source": [
        "df['time'] = pd.to_datetime(df['time'])\n"
      ]
    },
    {
      "cell_type": "markdown",
      "metadata": {
        "id": "0C-uAwQ0nkT_"
      },
      "source": [
        "# Drop missing values in key columns"
      ]
    },
    {
      "cell_type": "code",
      "execution_count": null,
      "metadata": {
        "id": "B7x_NADonuDy"
      },
      "outputs": [],
      "source": [
        "df = df.dropna(subset=['latitude', 'longitude', 'mag'])\n"
      ]
    },
    {
      "cell_type": "markdown",
      "metadata": {
        "id": "DYjphMN9oaug"
      },
      "source": [
        "#Filter earthquakes with magnitude ≥ 4.0"
      ]
    },
    {
      "cell_type": "code",
      "execution_count": null,
      "metadata": {
        "id": "Q5dlGAUooaNS"
      },
      "outputs": [],
      "source": [
        "df = df[df['mag'] >= 4.0]\n"
      ]
    },
    {
      "cell_type": "markdown",
      "metadata": {
        "id": "cylEu_mUolPN"
      },
      "source": [
        "#Add a column for day_of_week"
      ]
    },
    {
      "cell_type": "code",
      "execution_count": null,
      "metadata": {
        "id": "h4PVCYxnorpv"
      },
      "outputs": [],
      "source": [
        "df['day_of_week'] = df['time'].dt.day_name()\n"
      ]
    },
    {
      "cell_type": "markdown",
      "metadata": {
        "id": "fqdOB2Auoyjn"
      },
      "source": [
        "# Create a severity_level column\n",
        "< 4.0 → Low\n",
        "\n",
        "4.0 - 6.0 → Moderate\n",
        "\n",
        "6.0+ → High"
      ]
    },
    {
      "cell_type": "code",
      "execution_count": null,
      "metadata": {
        "id": "Mo1DqPQnoyEs"
      },
      "outputs": [],
      "source": [
        "def severity(mag):\n",
        "    if mag < 4.0:\n",
        "        return \"Low\"\n",
        "    elif 4.0 <= mag < 6.0:\n",
        "        return \"Moderate\"\n",
        "    else:\n",
        "        return \"High\"\n",
        "\n",
        "df['severity_level'] = df['mag'].apply(severity)\n"
      ]
    },
    {
      "cell_type": "markdown",
      "source": [
        "# Count earthquakes per place"
      ],
      "metadata": {
        "id": "uZez6mAgroZl"
      }
    },
    {
      "cell_type": "code",
      "source": [
        "eq_per_place = df['place'].value_counts().reset_index()\n",
        "eq_per_place.columns = ['place', 'earthquake_count']\n"
      ],
      "metadata": {
        "id": "3JA6q5cGrkQX"
      },
      "execution_count": null,
      "outputs": []
    },
    {
      "cell_type": "markdown",
      "source": [
        "# Compute average magnitude & max depth per day"
      ],
      "metadata": {
        "id": "Euwp5HtQrwhH"
      }
    },
    {
      "cell_type": "code",
      "source": [
        "summary = df.groupby(df['time'].dt.date).agg(\n",
        "    avg_magnitude=('mag', 'mean'),\n",
        "    max_depth=('depth', 'max')\n",
        ").reset_index()\n",
        "\n",
        "summary.rename(columns={'time': 'date'}, inplace=True)\n"
      ],
      "metadata": {
        "id": "Zl37_bnrryy2"
      },
      "execution_count": null,
      "outputs": []
    },
    {
      "cell_type": "markdown",
      "source": [
        "# Save to CSV"
      ],
      "metadata": {
        "id": "1MXAh7ugr6rH"
      }
    },
    {
      "cell_type": "code",
      "source": [
        "df.to_csv(\"cleaned_earthquakes.csv\", index=False)\n",
        "summary.to_csv(\"earthquake_summary.csv\", index=False)\n"
      ],
      "metadata": {
        "id": "-Lf3pAETr6GJ"
      },
      "execution_count": null,
      "outputs": []
    },
    {
      "cell_type": "markdown",
      "source": [
        "# Store into SQLite"
      ],
      "metadata": {
        "id": "vXT9YG2OsGTf"
      }
    },
    {
      "cell_type": "code",
      "source": [
        "import sqlite3\n",
        "\n",
        "conn = sqlite3.connect(\"earthquakes.db\")\n",
        "\n",
        "# Save main cleaned dataset\n",
        "df.to_sql(\"earthquakes\", conn, if_exists=\"replace\", index=False)\n",
        "\n",
        "# Save summary table\n",
        "summary.to_sql(\"earthquake_summary\", conn, if_exists=\"replace\", index=False)\n",
        "\n",
        "conn.close()\n"
      ],
      "metadata": {
        "id": "Z_oMS980sOGj"
      },
      "execution_count": null,
      "outputs": []
    },
    {
      "cell_type": "code",
      "source": [
        "conn.commit()  # Save changes\n",
        "conn.close()   # Close connection\n"
      ],
      "metadata": {
        "id": "e0kXCNbd7UaO"
      },
      "execution_count": 46,
      "outputs": []
    },
    {
      "cell_type": "markdown",
      "source": [
        "             ┌─────────────────────┐\n",
        "             │   Extract Data      │\n",
        "             │  (USGS CSV online)  │\n",
        "             └─────────┬───────────┘\n",
        "                       │\n",
        "                       ▼\n",
        "             ┌─────────────────────┐\n",
        "             │   Transform Data    │\n",
        "             │ - Convert time      │\n",
        "             │ - Drop nulls        │\n",
        "             │ - Filter mag >= 4   │\n",
        "             │ - Add day_of_week   │\n",
        "             │ - Add severity      │\n",
        "             │ - Aggregations      │\n",
        "             └─────────┬───────────┘\n",
        "                       │\n",
        "                       ▼\n",
        "             ┌─────────────────────┐\n",
        "             │     Load Data       │\n",
        "             │ - Save CSV files    │\n",
        "             │ - Save SQLite DB    │\n",
        "             └─────────────────────┘\n"
      ],
      "metadata": {
        "id": "esnkMnaF_xJe"
      }
    }
  ],
  "metadata": {
    "colab": {
      "provenance": [],
      "authorship_tag": "ABX9TyOd/E1X/9SJjRvFImYondtc",
      "include_colab_link": true
    },
    "kernelspec": {
      "display_name": "Python 3",
      "name": "python3"
    },
    "language_info": {
      "name": "python"
    }
  },
  "nbformat": 4,
  "nbformat_minor": 0
}