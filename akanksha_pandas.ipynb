{
  "nbformat": 4,
  "nbformat_minor": 0,
  "metadata": {
    "colab": {
      "provenance": [],
      "authorship_tag": "ABX9TyPmE8vhstLiLyiSoMXUL9qW",
      "include_colab_link": true
    },
    "kernelspec": {
      "name": "python3",
      "display_name": "Python 3"
    },
    "language_info": {
      "name": "python"
    }
  },
  "cells": [
    {
      "cell_type": "markdown",
      "metadata": {
        "id": "view-in-github",
        "colab_type": "text"
      },
      "source": [
        "<a href=\"https://colab.research.google.com/github/maneakansha36/my_first_repository/blob/main/akanksha_pandas.ipynb\" target=\"_parent\"><img src=\"https://colab.research.google.com/assets/colab-badge.svg\" alt=\"Open In Colab\"/></a>"
      ]
    },
    {
      "cell_type": "markdown",
      "source": [
        "Dataset Link: https://raw.githubusercontent.com/laxmimerit/AllCSVMLDataFilesDownload/master/IMDBMovie\n",
        "\n",
        "Data.csv\n",
        "\n",
        "Tasks: 1) Import pandas, numpy"
      ],
      "metadata": {
        "id": "vo5oLyyNK91I"
      }
    },
    {
      "cell_type": "code",
      "execution_count": null,
      "metadata": {
        "id": "R8Pw002uKty1"
      },
      "outputs": [],
      "source": [
        "import pandas as pd\n",
        "import numpy as np"
      ]
    },
    {
      "cell_type": "markdown",
      "source": [
        "2) Load dataset using pd.read_csv()"
      ],
      "metadata": {
        "id": "GyWzGpIOLXCe"
      }
    },
    {
      "cell_type": "code",
      "source": [
        "url = \"https://raw.githubusercontent.com/laxmimerit/All-CSV-ML-Data-Files-Download/master/IMDB-Movie-Data.csv\"\n",
        "df = pd.read_csv(url)"
      ],
      "metadata": {
        "id": "Ky-HNJ_dLYb5"
      },
      "execution_count": null,
      "outputs": []
    },
    {
      "cell_type": "markdown",
      "source": [
        "3) Display: shape, head, column names, datatypes, missing value"
      ],
      "metadata": {
        "id": "KZtDNTX7L2gA"
      }
    },
    {
      "cell_type": "code",
      "source": [
        "# Display the shape of the dataset\n",
        "print(\"Shape:\", df.shape)\n",
        "\n",
        "# Display the first few rows of the dataset\n",
        "print(\"Head:\\n\", df.head())\n",
        "\n",
        "# Display column names\n",
        "print(\"Columns:\", df.columns)\n",
        "\n",
        "# Display data types of each column\n",
        "print(\"Data Types:\\n\", df.dtypes)\n",
        "\n",
        "# Check for missing values\n",
        "print(\"Missing Values:\\n\", df.isnull().sum())"
      ],
      "metadata": {
        "colab": {
          "base_uri": "https://localhost:8080/"
        },
        "id": "TEK3j5yhL132",
        "outputId": "ffe28cd2-5f6e-4234-994b-2174d4fdb67f"
      },
      "execution_count": null,
      "outputs": [
        {
          "output_type": "stream",
          "name": "stdout",
          "text": [
            "Shape: (1000, 12)\n",
            "Head:\n",
            "    Rank                    Title                     Genre  \\\n",
            "0     1  Guardians of the Galaxy   Action,Adventure,Sci-Fi   \n",
            "1     2               Prometheus  Adventure,Mystery,Sci-Fi   \n",
            "2     3                    Split           Horror,Thriller   \n",
            "3     4                     Sing   Animation,Comedy,Family   \n",
            "4     5            Suicide Squad  Action,Adventure,Fantasy   \n",
            "\n",
            "                                         Description              Director  \\\n",
            "0  A group of intergalactic criminals are forced ...            James Gunn   \n",
            "1  Following clues to the origin of mankind, a te...          Ridley Scott   \n",
            "2  Three girls are kidnapped by a man with a diag...    M. Night Shyamalan   \n",
            "3  In a city of humanoid animals, a hustling thea...  Christophe Lourdelet   \n",
            "4  A secret government agency recruits some of th...            David Ayer   \n",
            "\n",
            "                                              Actors  Year  Runtime (Minutes)  \\\n",
            "0  Chris Pratt, Vin Diesel, Bradley Cooper, Zoe S...  2014                121   \n",
            "1  Noomi Rapace, Logan Marshall-Green, Michael Fa...  2012                124   \n",
            "2  James McAvoy, Anya Taylor-Joy, Haley Lu Richar...  2016                117   \n",
            "3  Matthew McConaughey,Reese Witherspoon, Seth Ma...  2016                108   \n",
            "4  Will Smith, Jared Leto, Margot Robbie, Viola D...  2016                123   \n",
            "\n",
            "   Rating   Votes  Revenue (Millions)  Metascore  \n",
            "0     8.1  757074              333.13       76.0  \n",
            "1     7.0  485820              126.46       65.0  \n",
            "2     7.3  157606              138.12       62.0  \n",
            "3     7.2   60545              270.32       59.0  \n",
            "4     6.2  393727              325.02       40.0  \n",
            "Columns: Index(['Rank', 'Title', 'Genre', 'Description', 'Director', 'Actors', 'Year',\n",
            "       'Runtime (Minutes)', 'Rating', 'Votes', 'Revenue (Millions)',\n",
            "       'Metascore'],\n",
            "      dtype='object')\n",
            "Data Types:\n",
            " Rank                    int64\n",
            "Title                  object\n",
            "Genre                  object\n",
            "Description            object\n",
            "Director               object\n",
            "Actors                 object\n",
            "Year                    int64\n",
            "Runtime (Minutes)       int64\n",
            "Rating                float64\n",
            "Votes                   int64\n",
            "Revenue (Millions)    float64\n",
            "Metascore             float64\n",
            "dtype: object\n",
            "Missing Values:\n",
            " Rank                    0\n",
            "Title                   0\n",
            "Genre                   0\n",
            "Description             0\n",
            "Director                0\n",
            "Actors                  0\n",
            "Year                    0\n",
            "Runtime (Minutes)       0\n",
            "Rating                  0\n",
            "Votes                   0\n",
            "Revenue (Millions)    128\n",
            "Metascore              64\n",
            "dtype: int64\n"
          ]
        }
      ]
    },
    {
      "cell_type": "markdown",
      "source": [
        "Check and remove duplicates"
      ],
      "metadata": {
        "id": "gpmZEUwjMNaX"
      }
    },
    {
      "cell_type": "code",
      "source": [
        "# Check for duplicate rows\n",
        "print(\"Duplicate Rows:\", df.duplicated().sum())\n",
        "\n",
        "# Remove duplicate rows\n",
        "df = df.drop_duplicates()\n"
      ],
      "metadata": {
        "colab": {
          "base_uri": "https://localhost:8080/"
        },
        "id": "EN-4ybaWMOsc",
        "outputId": "1ae6c258-b0d9-4a6a-dffd-d7bd1d7a787b"
      },
      "execution_count": null,
      "outputs": [
        {
          "output_type": "stream",
          "name": "stdout",
          "text": [
            "Duplicate Rows: 0\n"
          ]
        }
      ]
    },
    {
      "cell_type": "markdown",
      "source": [
        "5) Rename columns (\"Title\" > \"Movie_Title\")"
      ],
      "metadata": {
        "id": "rvdrrSGyMV6d"
      }
    },
    {
      "cell_type": "code",
      "source": [
        "df = df.rename(columns={\"Title\": \"Movie_Title\"})"
      ],
      "metadata": {
        "id": "ImQj_O7zMcvb"
      },
      "execution_count": null,
      "outputs": []
    },
    {
      "cell_type": "markdown",
      "source": [
        "6. Getting Unique Genres"
      ],
      "metadata": {
        "id": "nZFKFQQXMo6O"
      }
    },
    {
      "cell_type": "code",
      "source": [
        "unique_genres = df['Genre'].unique()\n",
        "print(\"Unique Genres:\", unique_genres)"
      ],
      "metadata": {
        "colab": {
          "base_uri": "https://localhost:8080/"
        },
        "id": "qLugKEF0Mp1S",
        "outputId": "1a0ef35d-dfb1-4f22-daba-0c8811f21126"
      },
      "execution_count": null,
      "outputs": [
        {
          "output_type": "stream",
          "name": "stdout",
          "text": [
            "Unique Genres: ['Action,Adventure,Sci-Fi' 'Adventure,Mystery,Sci-Fi' 'Horror,Thriller'\n",
            " 'Animation,Comedy,Family' 'Action,Adventure,Fantasy' 'Comedy,Drama,Music'\n",
            " 'Comedy' 'Action,Adventure,Biography' 'Adventure,Drama,Romance'\n",
            " 'Adventure,Family,Fantasy' 'Biography,Drama,History'\n",
            " 'Animation,Adventure,Comedy' 'Action,Comedy,Drama' 'Action,Thriller'\n",
            " 'Biography,Drama' 'Drama,Mystery,Sci-Fi' 'Adventure,Drama,Thriller'\n",
            " 'Drama' 'Crime,Drama,Horror' 'Action,Adventure,Drama' 'Drama,Thriller'\n",
            " 'Action,Adventure,Comedy' 'Action,Horror,Sci-Fi' 'Adventure,Drama,Sci-Fi'\n",
            " 'Action,Adventure,Western' 'Comedy,Drama' 'Horror'\n",
            " 'Adventure,Drama,Fantasy' 'Action,Crime,Thriller' 'Action,Crime,Drama'\n",
            " 'Adventure,Drama,History' 'Crime,Horror,Thriller' 'Drama,Romance'\n",
            " 'Comedy,Drama,Romance' 'Horror,Mystery,Thriller' 'Crime,Drama,Mystery'\n",
            " 'Drama,Romance,Thriller' 'Drama,History,Thriller' 'Action,Drama,Thriller'\n",
            " 'Drama,History' 'Action,Drama,Romance' 'Drama,Fantasy' 'Action,Sci-Fi'\n",
            " 'Adventure,Drama,War' 'Action,Comedy,Fantasy' 'Biography,Comedy,Crime'\n",
            " 'Crime,Drama' 'Comedy,Crime,Drama' 'Action,Comedy,Crime'\n",
            " 'Animation,Drama,Fantasy' 'Horror,Mystery,Sci-Fi'\n",
            " 'Drama,Mystery,Thriller' 'Crime,Drama,Thriller' 'Biography,Crime,Drama'\n",
            " 'Crime,Mystery,Thriller' 'Action,Horror,Thriller' 'Romance,Sci-Fi'\n",
            " 'Action,Fantasy,War' 'Action,Biography,Drama' 'Drama,Horror,Mystery'\n",
            " 'Adventure,Drama,Family' 'Adventure,Comedy,Romance' 'Action'\n",
            " 'Adventure,Crime,Mystery' 'Comedy,Family,Musical'\n",
            " 'Adventure,Comedy,Drama' 'Drama,Horror,Thriller' 'Drama,Music'\n",
            " 'Mystery,Thriller' 'Mystery,Thriller,Western' 'Comedy,Family'\n",
            " 'Biography,Comedy,Drama' 'Drama,Western' 'Drama,Mystery,Romance'\n",
            " 'Action,Drama,Mystery' 'Action,Adventure,Crime'\n",
            " 'Adventure,Sci-Fi,Thriller' 'Action,Comedy,Mystery' 'Thriller,War'\n",
            " 'Action,Adventure,Thriller' 'Drama,Fantasy,Romance'\n",
            " 'Action,Drama,History' 'Animation,Adventure,Family' 'Adventure,Horror'\n",
            " 'Drama,Romance,Sci-Fi' 'Action,Adventure,Family' 'Action,Comedy'\n",
            " 'Comedy,Romance' 'Horror,Mystery' 'Drama,Family,Fantasy' 'Sci-Fi'\n",
            " 'Drama,War' 'Drama,Fantasy,Horror' 'Crime,Drama,History'\n",
            " 'Horror,Sci-Fi,Thriller' 'Action,Drama,Sport' 'Adventure,Biography,Drama'\n",
            " 'Biography,Drama,Thriller' 'Action,Adventure,Mystery' 'Drama,Horror'\n",
            " 'Comedy,Crime' 'Drama,Fantasy,War' 'Action,Adventure,Romance'\n",
            " 'Action,Drama,War' 'Drama,Musical,Romance' 'Drama,Sci-Fi,Thriller'\n",
            " 'Action,Drama,Sci-Fi' 'Drama,Sci-Fi' 'Adventure,Fantasy' 'Thriller'\n",
            " 'Biography,Drama,Romance' 'Action,Adventure' 'Action,Fantasy'\n",
            " 'Action,Drama,Horror' 'Comedy,Music,Romance' 'Biography,Drama,Sport'\n",
            " 'Action,Horror' 'Comedy,Horror,Thriller' 'Crime,Drama,Music'\n",
            " 'Action,Sci-Fi,Thriller' 'Drama,Horror,Sci-Fi' 'Drama,Sport'\n",
            " 'Comedy,Horror' 'Comedy,Fantasy,Romance' 'Comedy,Fantasy'\n",
            " 'Comedy,Drama,Fantasy' 'Adventure,Comedy,Horror' 'Comedy,Mystery'\n",
            " 'Action,Mystery,Sci-Fi' 'Action,Crime,Fantasy' 'Comedy,Fantasy,Horror'\n",
            " 'Animation,Action,Adventure' 'Action,Comedy,Family' 'Comedy,Sci-Fi'\n",
            " 'Action,Biography,Crime' 'Adventure,Comedy' 'Comedy,Music'\n",
            " 'Comedy,Drama,Horror' 'Action,Horror,Romance' 'Action,Drama,Fantasy'\n",
            " 'Action,Mystery,Thriller' 'Action,Adventure,Horror'\n",
            " 'Animation,Family,Fantasy' 'Adventure,Horror,Mystery'\n",
            " 'Action,Horror,Mystery' 'Adventure,Comedy,Family' 'Action,Crime,Mystery'\n",
            " 'Comedy,Drama,Family' 'Action,Crime,Sport' 'Mystery,Sci-Fi,Thriller'\n",
            " 'Sci-Fi,Thriller' 'Adventure,Drama,Horror' 'Biography,History,Thriller'\n",
            " 'Adventure,Comedy,Sci-Fi' 'Fantasy,Horror' 'Action,Fantasy,Thriller'\n",
            " 'Comedy,Romance,Sport' 'Animation,Action,Comedy' 'Drama,Fantasy,Thriller'\n",
            " 'Action,Comedy,Romance' 'Action,Fantasy,Horror' 'Mystery,Romance,Sci-Fi'\n",
            " 'Comedy,Drama,Thriller' 'Comedy,Western' 'Drama,History,War'\n",
            " 'Fantasy,Horror,Thriller' 'Drama,Horror,Musical' 'Drama,Family'\n",
            " 'Romance,Sci-Fi,Thriller' 'Animation,Fantasy' 'Drama,Mystery,War'\n",
            " 'Action,Drama,Family' 'Adventure,Drama,Western' 'Drama,Music,Romance'\n",
            " 'Comedy,Romance,Western' 'Adventure,Drama' 'Drama,Thriller,War'\n",
            " 'Drama,Fantasy,Mystery' 'Comedy,Crime,Thriller' 'Animation,Comedy,Drama'\n",
            " 'Action,Comedy,Sci-Fi' 'Drama,Romance,War' 'Adventure,Fantasy,Mystery'\n",
            " 'Mystery,Romance,Thriller' 'Biography,Drama,Mystery'\n",
            " 'Animation,Drama,Romance' 'Comedy,Horror,Romance' 'Action,Thriller,War'\n",
            " 'Action,Comedy,Horror' 'Action,Crime,Sci-Fi' 'Crime,Thriller'\n",
            " 'Comedy,Horror,Sci-Fi' 'Crime,Drama,Fantasy' 'Drama,Fantasy,Music'\n",
            " 'Action,Comedy,Sport' 'Fantasy,Mystery,Thriller' 'Adventure'\n",
            " 'Adventure,Biography' 'Adventure,Biography,Crime' 'Comedy,Drama,Musical'\n",
            " 'Comedy,Family,Romance' 'Biography,Drama,Family' 'Drama,Fantasy,Musical'\n",
            " 'Adventure,Family' 'Adventure,Comedy,Fantasy' 'Drama,Family,Music'\n",
            " 'Comedy,Family,Fantasy']\n"
          ]
        }
      ]
    },
    {
      "cell_type": "markdown",
      "source": [
        "7. Extracting Number of Genres per Movie"
      ],
      "metadata": {
        "id": "9O1ly67RM7Eq"
      }
    },
    {
      "cell_type": "code",
      "source": [
        "df['Num_Genres'] = df['Genre'].apply(lambda x: len(x.split(',')))\n",
        "print(\"Movies with Number of Genres:\\n\", df[['Movie_Title', 'Num_Genres']].head())"
      ],
      "metadata": {
        "colab": {
          "base_uri": "https://localhost:8080/"
        },
        "id": "lE0gOrkFMyZ0",
        "outputId": "e8a02766-3169-4c73-ab20-a13ed00142dd"
      },
      "execution_count": null,
      "outputs": [
        {
          "output_type": "stream",
          "name": "stdout",
          "text": [
            "Movies with Number of Genres:\n",
            "                Movie_Title  Num_Genres\n",
            "0  Guardians of the Galaxy           3\n",
            "1               Prometheus           3\n",
            "2                    Split           2\n",
            "3                     Sing           3\n",
            "4            Suicide Squad           3\n"
          ]
        }
      ]
    },
    {
      "cell_type": "markdown",
      "source": [
        "8. Handling Missing Values in 'Revenue (Millions)' and 'Metascore"
      ],
      "metadata": {
        "id": "O4Yz1oULNIoG"
      }
    },
    {
      "cell_type": "code",
      "source": [
        "# Fill missing values in 'Revenue (Millions)' with 0\n",
        "df['Revenue (Millions)'].fillna(0, inplace=True)\n",
        "\n",
        "# Fill missing values in 'Metascore' with the median\n",
        "df['Metascore'].fillna(df['Metascore'].median(), inplace=True)"
      ],
      "metadata": {
        "colab": {
          "base_uri": "https://localhost:8080/"
        },
        "id": "DMPeTbo4NDtR",
        "outputId": "b810c0e1-3233-4851-c301-ca8d6e623dd5"
      },
      "execution_count": null,
      "outputs": [
        {
          "output_type": "stream",
          "name": "stderr",
          "text": [
            "/tmp/ipython-input-1039579568.py:2: FutureWarning: A value is trying to be set on a copy of a DataFrame or Series through chained assignment using an inplace method.\n",
            "The behavior will change in pandas 3.0. This inplace method will never work because the intermediate object on which we are setting values always behaves as a copy.\n",
            "\n",
            "For example, when doing 'df[col].method(value, inplace=True)', try using 'df.method({col: value}, inplace=True)' or df[col] = df[col].method(value) instead, to perform the operation inplace on the original object.\n",
            "\n",
            "\n",
            "  df['Revenue (Millions)'].fillna(0, inplace=True)\n",
            "/tmp/ipython-input-1039579568.py:5: FutureWarning: A value is trying to be set on a copy of a DataFrame or Series through chained assignment using an inplace method.\n",
            "The behavior will change in pandas 3.0. This inplace method will never work because the intermediate object on which we are setting values always behaves as a copy.\n",
            "\n",
            "For example, when doing 'df[col].method(value, inplace=True)', try using 'df.method({col: value}, inplace=True)' or df[col] = df[col].method(value) instead, to perform the operation inplace on the original object.\n",
            "\n",
            "\n",
            "  df['Metascore'].fillna(df['Metascore'].median(), inplace=True)\n"
          ]
        }
      ]
    },
    {
      "cell_type": "markdown",
      "source": [
        "9. Top 5 Movies by Rating"
      ],
      "metadata": {
        "id": "grker7ISNSwZ"
      }
    },
    {
      "cell_type": "code",
      "source": [
        "top_5_movies = df[['Movie_Title', 'Rating']].sort_values(by='Rating', ascending=False).head(5)\n",
        "print(\"Top 5 Movies by Rating:\\n\", top_5_movies)\n"
      ],
      "metadata": {
        "colab": {
          "base_uri": "https://localhost:8080/"
        },
        "id": "_pY4cFUlNW0x",
        "outputId": "30144077-9a81-4310-b502-ca8836de86d1"
      },
      "execution_count": null,
      "outputs": [
        {
          "output_type": "stream",
          "name": "stdout",
          "text": [
            "Top 5 Movies by Rating:\n",
            "           Movie_Title  Rating\n",
            "54    The Dark Knight     9.0\n",
            "80          Inception     8.8\n",
            "117            Dangal     8.8\n",
            "36       Interstellar     8.6\n",
            "249  The Intouchables     8.6\n"
          ]
        }
      ]
    },
    {
      "cell_type": "markdown",
      "source": [
        "10. Movies with Highest/Lowest Revenue"
      ],
      "metadata": {
        "id": "o7UvHMIXNbqD"
      }
    },
    {
      "cell_type": "code",
      "source": [
        "# Movie with highest revenue\n",
        "highest_revenue = df[['Movie_Title', 'Revenue (Millions)']].sort_values(by='Revenue (Millions)', ascending=False).head(1)\n",
        "print(\"Movie with Highest Revenue:\\n\", highest_revenue)\n",
        "\n",
        "# Movie with lowest revenue\n",
        "lowest_revenue = df[['Movie_Title', 'Revenue (Millions)']].sort_values(by='Revenue (Millions)').head(1)\n",
        "print(\"Movie with Lowest Revenue:\\n\", lowest_revenue)\n"
      ],
      "metadata": {
        "colab": {
          "base_uri": "https://localhost:8080/"
        },
        "id": "MVU_UsOMNfnw",
        "outputId": "469b1d48-5015-4188-a24e-45376af2261f"
      },
      "execution_count": null,
      "outputs": [
        {
          "output_type": "stream",
          "name": "stdout",
          "text": [
            "Movie with Highest Revenue:\n",
            "                                    Movie_Title  Revenue (Millions)\n",
            "50  Star Wars: Episode VII - The Force Awakens              936.63\n",
            "Movie with Lowest Revenue:\n",
            "       Movie_Title  Revenue (Millions)\n",
            "998  Search Party                 0.0\n"
          ]
        }
      ]
    },
    {
      "cell_type": "markdown",
      "source": [
        "11. Average Rating by Director"
      ],
      "metadata": {
        "id": "lsmfl_g-NtwK"
      }
    },
    {
      "cell_type": "code",
      "source": [
        "avg_rating_by_director = df.groupby('Director')['Rating'].mean().reset_index()\n",
        "print(\"Average Rating by Director:\\n\", avg_rating_by_director.head())\n"
      ],
      "metadata": {
        "colab": {
          "base_uri": "https://localhost:8080/"
        },
        "id": "o7c2PgdkNujp",
        "outputId": "b0c6b036-10b6-4fde-f47f-2a4ac407a810"
      },
      "execution_count": null,
      "outputs": [
        {
          "output_type": "stream",
          "name": "stdout",
          "text": [
            "Average Rating by Director:\n",
            "               Director  Rating\n",
            "0           Aamir Khan     8.5\n",
            "1  Abdellatif Kechiche     7.8\n",
            "2            Adam Leon     6.5\n",
            "3           Adam McKay     7.0\n",
            "4        Adam Shankman     6.3\n"
          ]
        }
      ]
    },
    {
      "cell_type": "markdown",
      "source": [
        "12. Movies per Year"
      ],
      "metadata": {
        "id": "RfmGVLDjN0qS"
      }
    },
    {
      "cell_type": "code",
      "source": [
        "movies_per_year = df.groupby('Year')['Movie_Title'].count().reset_index(name='Movie_Count')\n",
        "print(\"Movies per Year:\\n\", movies_per_year.head())\n"
      ],
      "metadata": {
        "colab": {
          "base_uri": "https://localhost:8080/"
        },
        "id": "6HMExHfvN5Jp",
        "outputId": "d98e379c-64f6-4a4b-bcd1-0a2162831741"
      },
      "execution_count": null,
      "outputs": [
        {
          "output_type": "stream",
          "name": "stdout",
          "text": [
            "Movies per Year:\n",
            "    Year  Movie_Count\n",
            "0  2006           44\n",
            "1  2007           53\n",
            "2  2008           52\n",
            "3  2009           51\n",
            "4  2010           60\n"
          ]
        }
      ]
    },
    {
      "cell_type": "markdown",
      "source": [
        "13. Movies with Rating > 8 & Revenue > 100M"
      ],
      "metadata": {
        "id": "3jXOcznvN8sJ"
      }
    },
    {
      "cell_type": "code",
      "source": [
        "filtered_movies = df[(df['Rating'] > 8) & (df['Revenue (Millions)'] > 100)]\n",
        "print(\"Movies with Rating > 8 & Revenue > 100M:\\n\", filtered_movies[['Movie_Title', 'Rating', 'Revenue (Millions)']].head())\n"
      ],
      "metadata": {
        "colab": {
          "base_uri": "https://localhost:8080/"
        },
        "id": "7BqjxjXvOBJ2",
        "outputId": "c4fd918f-207e-47d1-aa10-ef4a6aeeb538"
      },
      "execution_count": null,
      "outputs": [
        {
          "output_type": "stream",
          "name": "stdout",
          "text": [
            "Movies with Rating > 8 & Revenue > 100M:\n",
            "                                    Movie_Title  Rating  Revenue (Millions)\n",
            "0                      Guardians of the Galaxy     8.1              333.13\n",
            "6                                   La La Land     8.3              151.06\n",
            "36                                Interstellar     8.6              187.99\n",
            "50  Star Wars: Episode VII - The Force Awakens     8.1              936.63\n",
            "54                             The Dark Knight     9.0              533.32\n"
          ]
        }
      ]
    },
    {
      "cell_type": "markdown",
      "source": [
        "14. Group by Director: Average Rating and Revenue"
      ],
      "metadata": {
        "id": "GgyDnhdOOHmG"
      }
    },
    {
      "cell_type": "code",
      "source": [
        "director_stats = df.groupby('Director').agg(\n",
        "    avg_rating=('Rating', 'mean'),\n",
        "    avg_revenue=('Revenue (Millions)', 'mean')\n",
        ").reset_index()\n",
        "print(\"Director Statistics:\\n\", director_stats.head())\n"
      ],
      "metadata": {
        "colab": {
          "base_uri": "https://localhost:8080/"
        },
        "id": "vLkTZXZTOL6x",
        "outputId": "45ba7561-68f8-483e-ec5a-453f925ec136"
      },
      "execution_count": null,
      "outputs": [
        {
          "output_type": "stream",
          "name": "stdout",
          "text": [
            "Director Statistics:\n",
            "               Director  avg_rating  avg_revenue\n",
            "0           Aamir Khan         8.5        1.200\n",
            "1  Abdellatif Kechiche         7.8        2.200\n",
            "2            Adam Leon         6.5        0.000\n",
            "3           Adam McKay         7.0      109.535\n",
            "4        Adam Shankman         6.3       78.665\n"
          ]
        }
      ]
    },
    {
      "cell_type": "markdown",
      "source": [
        "15. Group by Year: Count and Average Rating"
      ],
      "metadata": {
        "id": "R5BWFL0JOakQ"
      }
    },
    {
      "cell_type": "code",
      "source": [
        "year_stats = df.groupby('Year').agg(\n",
        "    movie_count=('Movie_Title', 'count'),\n",
        "    avg_rating=('Rating', 'mean')\n",
        ").reset_index()\n",
        "print(\"Yearly Statistics:\\n\", year_stats.head())\n"
      ],
      "metadata": {
        "colab": {
          "base_uri": "https://localhost:8080/"
        },
        "id": "crqnpusEObmc",
        "outputId": "b36db60a-c1ce-4813-ef5e-953c2de7b367"
      },
      "execution_count": null,
      "outputs": [
        {
          "output_type": "stream",
          "name": "stdout",
          "text": [
            "Yearly Statistics:\n",
            "    Year  movie_count  avg_rating\n",
            "0  2006           44    7.125000\n",
            "1  2007           53    7.133962\n",
            "2  2008           52    6.784615\n",
            "3  2009           51    6.960784\n",
            "4  2010           60    6.826667\n"
          ]
        }
      ]
    },
    {
      "cell_type": "markdown",
      "source": [
        "16. Creating a 'Profitability' Column"
      ],
      "metadata": {
        "id": "7-xlJiwbOf2E"
      }
    },
    {
      "cell_type": "code",
      "source": [
        "# Assuming 'Duration' is in minutes\n",
        "df['Profitability'] = df['Revenue (Millions)'] / df['Runtime (Minutes)']\n",
        "\n",
        "# Top 10 most profitable movies\n",
        "top_profitability = df[['Movie_Title', 'Profitability']].sort_values(by='Profitability', ascending=False).head(10)\n",
        "print(\"Top 10 Most Profitable Movies:\\n\", top_profitability)"
      ],
      "metadata": {
        "colab": {
          "base_uri": "https://localhost:8080/"
        },
        "id": "imtHpgkpOfcq",
        "outputId": "3dad0f82-647f-4c36-d49e-a68bb070dc49"
      },
      "execution_count": null,
      "outputs": [
        {
          "output_type": "stream",
          "name": "stdout",
          "text": [
            "Top 10 Most Profitable Movies:\n",
            "                                     Movie_Title  Profitability\n",
            "50   Star Wars: Episode VII - The Force Awakens       6.886985\n",
            "85                               Jurassic World       5.259516\n",
            "119                                Finding Dory       5.013299\n",
            "87                                       Avatar       4.694506\n",
            "76                                 The Avengers       4.358601\n",
            "15                      The Secret Life of Pets       4.233448\n",
            "688                                 Toy Story 3       4.028932\n",
            "12                                    Rogue One       4.001278\n",
            "174                                      Frozen       3.928824\n",
            "797                             Despicable Me 2       3.755612\n"
          ]
        }
      ]
    },
    {
      "cell_type": "markdown",
      "source": [
        "17. Categorizing Movies by Rating"
      ],
      "metadata": {
        "id": "d4QXdnWaRJKa"
      }
    },
    {
      "cell_type": "code",
      "source": [
        "def categorize_rating(rating):\n",
        "    if rating < 6:\n",
        "        return 'Poor'\n",
        "    elif 6 <= rating < 7.5:\n",
        "        return 'Average'\n",
        "    else:\n",
        "        return 'Excellent'\n",
        "\n",
        "df['Rating_Category'] = df['Rating'].apply(categorize_rating)\n",
        "print(\"Movies with Rating Categories:\\n\", df[['Movie_Title', 'Rating', 'Rating_Category']].head())\n"
      ],
      "metadata": {
        "colab": {
          "base_uri": "https://localhost:8080/"
        },
        "id": "YDnQzXOzRIZK",
        "outputId": "c973fe87-96bb-4b1f-ad0a-b0d3b3cbd7ac"
      },
      "execution_count": null,
      "outputs": [
        {
          "output_type": "stream",
          "name": "stdout",
          "text": [
            "Movies with Rating Categories:\n",
            "                Movie_Title  Rating Rating_Category\n",
            "0  Guardians of the Galaxy     8.1       Excellent\n",
            "1               Prometheus     7.0         Average\n",
            "2                    Split     7.3         Average\n",
            "3                     Sing     7.2         Average\n",
            "4            Suicide Squad     6.2         Average\n"
          ]
        }
      ]
    },
    {
      "cell_type": "markdown",
      "source": [
        "18. Custom Scoring Function"
      ],
      "metadata": {
        "id": "vnUle1hLSOOL"
      }
    },
    {
      "cell_type": "code",
      "source": [
        "df['Custom_Score'] = df['Rating'] * 10 + df['Revenue (Millions)']\n",
        "print(\"Movies with Custom Scores:\\n\", df[['Movie_Title', 'Custom_Score']].head())\n"
      ],
      "metadata": {
        "colab": {
          "base_uri": "https://localhost:8080/"
        },
        "id": "gWfXQJCxSJ0y",
        "outputId": "a2c3b978-70b5-487f-994f-f657a34e96ff"
      },
      "execution_count": null,
      "outputs": [
        {
          "output_type": "stream",
          "name": "stdout",
          "text": [
            "Movies with Custom Scores:\n",
            "                Movie_Title  Custom_Score\n",
            "0  Guardians of the Galaxy        414.13\n",
            "1               Prometheus        196.46\n",
            "2                    Split        211.12\n",
            "3                     Sing        342.32\n",
            "4            Suicide Squad        387.02\n"
          ]
        }
      ]
    }
  ]
}