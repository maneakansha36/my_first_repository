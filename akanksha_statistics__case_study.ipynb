{
  "nbformat": 4,
  "nbformat_minor": 0,
  "metadata": {
    "colab": {
      "provenance": [],
      "authorship_tag": "ABX9TyPpKYFaOpvH68KS+WiQY79W",
      "include_colab_link": true
    },
    "kernelspec": {
      "name": "python3",
      "display_name": "Python 3"
    },
    "language_info": {
      "name": "python"
    }
  },
  "cells": [
    {
      "cell_type": "markdown",
      "metadata": {
        "id": "view-in-github",
        "colab_type": "text"
      },
      "source": [
        "<a href=\"https://colab.research.google.com/github/maneakansha36/my_first_repository/blob/main/akanksha_statistics__case_study.ipynb\" target=\"_parent\"><img src=\"https://colab.research.google.com/assets/colab-badge.svg\" alt=\"Open In Colab\"/></a>"
      ]
    },
    {
      "cell_type": "markdown",
      "source": [
        "1. Dataset: Monthly temperatures in a city (in °C): 12, 15, 14, 16, 18, 20, 22, 19, 17, 15, 13, 10\n",
        "\n",
        "Questions:\n",
        "\n",
        "a) Calculate the mean temperature.\n",
        "\n",
        "b) Calculate the median temperature.\n",
        "\n",
        "c) Find the mode of the temperature data.\n",
        "\n",
        "d) Range and Variance"
      ],
      "metadata": {
        "id": "XbkM5yRnGVvn"
      }
    },
    {
      "cell_type": "code",
      "source": [
        "# Dataset: Monthly temperatures in °C\n",
        "temps = [12, 15, 14, 16, 18, 20, 22, 19, 17, 15, 13, 10,]\n",
        "n = len(temps)\n",
        "\n",
        "# Mean\n",
        "mean = sum(temps) / n\n",
        "print(\"Mean:\", mean)\n",
        "# median\n",
        "# Median\n",
        "temps.sort()\n",
        "if n % 2 != 0:  # Odd count\n",
        "    median = temps[n // 2]\n",
        "else:  # Even count\n",
        "    median = (temps[n//2 - 1] + temps[n//2]) / 2 # Corrected this line\n",
        "print(\"Median:\", median)\n",
        "# mode of the temperature\n",
        "mode = max(set(temps), key=temps.count)\n",
        "\n",
        "print(\"Mode:\", mode)\n",
        "# Range\n",
        "range_val = max(temps) - min(temps)\n",
        "print(\"Range:\", range_val)\n",
        "# variance\n",
        "variance = sum((x - mean) ** 2 for x in temps) / n\n",
        "print(\"Variance:\", variance)"
      ],
      "metadata": {
        "colab": {
          "base_uri": "https://localhost:8080/"
        },
        "id": "X6VXESPnGZ_t",
        "outputId": "e2e598e4-ffd3-4e28-975f-0834a0ac8728"
      },
      "execution_count": null,
      "outputs": [
        {
          "output_type": "stream",
          "name": "stdout",
          "text": [
            "Mean: 15.916666666666666\n",
            "Median: 15.5\n",
            "Mode: 15\n",
            "Range: 12\n",
            "Variance: 11.076388888888888\n"
          ]
        }
      ]
    },
    {
      "cell_type": "markdown",
      "source": [
        "2. Dataset: Heights of students (in cm): 150, 160, 165, 170, 155, 160, 162, 168 Questions:\n",
        "\n",
        "a) Calculate the range of the heights.\n",
        "\n",
        "b) Calculate the variance of the heights.\n",
        "\n",
        "c) Standard Deviation"
      ],
      "metadata": {
        "id": "USJnoVR9GkSk"
      }
    },
    {
      "cell_type": "code",
      "source": [
        "# Dataset: Heights of students in cm\n",
        "heights = [150, 160, 165, 170, 155, 160, 162, 168]\n",
        "n = len(heights)\n",
        "\n",
        "# Mean\n",
        "mean = sum(heights) / n\n",
        "\n",
        "# a) Range\n",
        "range_val = max(heights) - min(heights)\n",
        "\n",
        "# b) Variance (population)\n",
        "variance = sum((x - mean) ** 2 for x in heights) / n\n",
        "\n",
        "# c) Standard Deviation\n",
        "std_dev = variance ** 0.5\n",
        "\n",
        "# Print Results\n",
        "print(\"Range:\", range_val)\n",
        "print(\"Variance:\", variance)\n",
        "print(\"Standard Deviation:\", std_dev)"
      ],
      "metadata": {
        "colab": {
          "base_uri": "https://localhost:8080/"
        },
        "id": "RX8DOxybGpHa",
        "outputId": "00a08d38-2920-4c9f-91e6-a8b90faa5570"
      },
      "execution_count": null,
      "outputs": [
        {
          "output_type": "stream",
          "name": "stdout",
          "text": [
            "Range: 20\n",
            "Variance: 38.1875\n",
            "Standard Deviation: 6.179603547154137\n"
          ]
        }
      ]
    },
    {
      "cell_type": "markdown",
      "source": [
        "3. Dataset: Weekly expenses (in $): 200, 250, 300, 220, 270, 290, 310\n",
        " Questions:\n",
        "\n",
        " a) Calculate the standard deviation of the weekly expenses."
      ],
      "metadata": {
        "id": "xrADtXKoGtjR"
      }
    },
    {
      "cell_type": "code",
      "source": [
        "# Dataset: Weekly expenses in $\n",
        "expenses = [200, 250, 300, 220, 270, 290, 310]\n",
        "n = len(expenses)\n",
        "\n",
        "# Mean\n",
        "mean = sum(expenses) / n\n",
        "\n",
        "# Variance (population)\n",
        "variance = sum((x - mean) ** 2 for x in expenses) / n\n",
        "\n",
        "# Standard Deviation\n",
        "std_dev = variance ** 0.5\n",
        "\n",
        "# Print Result\n",
        "print(\"Standard Deviation of Weekly Expenses:\", std_dev)"
      ],
      "metadata": {
        "colab": {
          "base_uri": "https://localhost:8080/"
        },
        "id": "ENnqBeaZG740",
        "outputId": "b05d91db-564c-4546-be0f-5c5e912aa1d7"
      },
      "execution_count": null,
      "outputs": [
        {
          "output_type": "stream",
          "name": "stdout",
          "text": [
            "Standard Deviation of Weekly Expenses: 38.438925848782034\n"
          ]
        }
      ]
    },
    {
      "cell_type": "markdown",
      "source": [
        "4. Dataset: Advertising Spending (in  1000s):10,20,15,25,30;Sales(in 1000s): 100, 150, 120, 180, 200 Questions:\n",
        "\n",
        "a) Calculate the covariance between advertising spending and sales.\n",
        "\n",
        "b) Correlation"
      ],
      "metadata": {
        "id": "2sp-3jy1Hbi9"
      }
    },
    {
      "cell_type": "code",
      "source": [
        "import statistics as stats\n",
        "\n",
        "# Dataset\n",
        "Advertising  = [10, 20, 15, 25, 30]   # Advertising Spending\n",
        "Sales = [100, 150, 120, 180, 200]  # Sales\n",
        "\n",
        "# a) Covariance\n",
        "cov = stats.covariance(Advertising , Sales)   # population covariance\n",
        "print(\"Covariance:\", cov)\n",
        "\n",
        "# b) Correlation\n",
        "corr = stats.correlation(Advertising , Sales)\n",
        "print(\"Correlation:\", corr)"
      ],
      "metadata": {
        "id": "Nvw8he2ZHjzD",
        "colab": {
          "base_uri": "https://localhost:8080/"
        },
        "outputId": "2bc2347a-a061-4e24-ff36-1111473cb00b"
      },
      "execution_count": 5,
      "outputs": [
        {
          "output_type": "stream",
          "name": "stdout",
          "text": [
            "Covariance: 325.0\n",
            "Correlation: 0.9970544855015816\n"
          ]
        }
      ]
    },
    {
      "cell_type": "markdown",
      "source": [
        "5.Dataset: Study Hours: 2, 4, 6, 8, 10; Exam Scores: 55, 60, 65, 70, 75 Questions:\n",
        "\n",
        "a) Calculate the correlation coefficient between study hours and exam scores.\n",
        "\n",
        "b) Interpret the result.\n",
        "\n",
        "c) Quartiles and IQR steps"
      ],
      "metadata": {
        "id": "Fi4Q3825Isym"
      }
    },
    {
      "cell_type": "code",
      "source": [
        "import statistics as stats\n",
        "\n",
        "# Dataset\n",
        "study_hours = [2, 4, 6, 8, 10]\n",
        "exam_scores = [55, 60, 65, 70, 75]\n",
        "\n",
        "# a) Correlation coefficient\n",
        "corr = stats.correlation(study_hours, exam_scores)\n",
        "# Print results\n",
        "print(\"Correlation Coefficient:\", corr)\n",
        "print(\"Sorted Data:\", sorted(study_hours + exam_scores))\n",
        "# b) Interpretation\n",
        "n = len(exam_scores)\n",
        "q1_index = n // 4\n",
        "q2_index = n // 2\n",
        "q3_index = 3 * n // 4\n",
        "q1 = exam_scores [q1_index]\n",
        "q2 = exam_scores[q2_index]\n",
        "q3 = exam_scores[q3_index]\n",
        "print(\"Q1:\", q1)\n",
        "print(\"Q2:\", q2)\n",
        "print(\"Q3:\", q3)\n",
        "iqr = q3 - q1\n",
        "print(\"IQR:\", iqr)\n",
        "print(f\"Correlation between Study Hours and Exam Scores: {corr}\")\n",
        "print(\"Interpretation: Strong positive correlation (as study hours increase, exam scores increase).\")"
      ],
      "metadata": {
        "colab": {
          "base_uri": "https://localhost:8080/"
        },
        "id": "4HKVrYAaIxmq",
        "outputId": "31b648ba-a33a-4c4c-d0f0-ebd4259263d9"
      },
      "execution_count": 6,
      "outputs": [
        {
          "output_type": "stream",
          "name": "stdout",
          "text": [
            "Correlation Coefficient: 1.0\n",
            "Sorted Data: [2, 4, 6, 8, 10, 55, 60, 65, 70, 75]\n",
            "Q1: 60\n",
            "Q2: 65\n",
            "Q3: 70\n",
            "IQR: 10\n",
            "Correlation between Study Hours and Exam Scores: 1.0\n",
            "Interpretation: Strong positive correlation (as study hours increase, exam scores increase).\n"
          ]
        }
      ]
    },
    {
      "cell_type": "code",
      "source": [
        "import statistics as stats\n",
        "study_hours = [2,4,6,8,10]\n",
        "exam_scores = [55,60,65,70,75]\n",
        "\n",
        "#correlation coefficient\n",
        "corr_sh_es = stats.correlation(study_hours,exam_scores)\n",
        "\n",
        "#Quartiles and IQR of exam_scores\n",
        "Q1 = stats.quantiles(exam_scores)[0]\n",
        "Q2 = stats.quantiles(exam_scores)[1]\n",
        "Q3 = stats.quantiles(exam_scores)[2]\n",
        "IQR = Q3 - Q1\n",
        "\n",
        "\n",
        "print(f\"Quartiles of Exam Scores: Q1 = {Q1}, Q2 = {Q2}, Q3 = {Q3}\")\n",
        "print(f\"IQR of Exam Scores: {IQR}\\n\")\n",
        "\n",
        "#Quartiles and IQR of study_hours\n",
        "Q1 = stats.quantiles(study_hours)[0]\n",
        "Q2 = stats.quantiles(study_hours)[1]\n",
        "Q3 = stats.quantiles(study_hours)[2]\n",
        "IQR = Q3 - Q1\n",
        "\n",
        "print(f\"Quartiles of Study Hours: Q1 = {Q1}, Q2 = {Q2}, Q3 = {Q3}\")\n",
        "print(f\"IQR of Study Hours: {IQR}\\n\")\n",
        "\n",
        "print(f\"Correlation between Study Hours and Exam Scores: {corr_sh_es}\")\n",
        "print(\"Interpretation: Strong positive correlation (as study hours increase, exam scores increase).\")"
      ],
      "metadata": {
        "colab": {
          "base_uri": "https://localhost:8080/"
        },
        "id": "KHYPpuylI6uP",
        "outputId": "d00888d8-ac27-4fb1-a575-d46c19aba3d8"
      },
      "execution_count": 7,
      "outputs": [
        {
          "output_type": "stream",
          "name": "stdout",
          "text": [
            "Quartiles of Exam Scores: Q1 = 57.5, Q2 = 65.0, Q3 = 72.5\n",
            "IQR of Exam Scores: 15.0\n",
            "\n",
            "Quartiles of Study Hours: Q1 = 3.0, Q2 = 6.0, Q3 = 9.0\n",
            "IQR of Study Hours: 6.0\n",
            "\n",
            "Correlation between Study Hours and Exam Scores: 1.0\n",
            "Interpretation: Strong positive correlation (as study hours increase, exam scores increase).\n"
          ]
        }
      ]
    },
    {
      "cell_type": "markdown",
      "source": [
        "6. Dataset: Monthly savings (in $): 200, 300, 400, 500, 600, 700, 800, 900, 1000, 1100 Questions:\n",
        "\n",
        "a) Calculate the first quartile (Q1) and third quartile (Q3).\n",
        "\n",
        "b) Calculate the interquartile range (IQR).\n",
        "\n",
        "c) Detecting Outliers"
      ],
      "metadata": {
        "id": "oB3adZbTI_jW"
      }
    },
    {
      "cell_type": "code",
      "source": [
        "import statistics as stats\n",
        "\n",
        "# Dataset\n",
        "savings = [200, 300, 400, 500, 600, 700, 800, 900, 1000, 1100]\n",
        "n = len(savings)\n",
        "\n",
        "#Quartiles and IQR of study_hours\n",
        "Q1 = stats.quantiles(savings)[0]\n",
        "Q2 = stats.quantiles(savings)[1]\n",
        "Q3 = stats.quantiles(savings)[2]\n",
        "IQR = Q3 - Q1\n",
        "\n",
        "# Outlier detection bounds\n",
        "lower_bound = Q1 - 1.5 * IQR\n",
        "upper_bound = Q3 + 1.5 * IQR\n",
        "# Detect outliers\n",
        "outliers = [x for x in savings if x < lower_bound or x > upper_bound]\n",
        "\n",
        "# Print results\n",
        "print(\"Q1:\", Q1)\n",
        "print(\"Q3:\", Q3)\n",
        "print(\"IQR:\", IQR)\n",
        "print(\"Outliers:\", outliers if outliers else \"No Outliers\")"
      ],
      "metadata": {
        "colab": {
          "base_uri": "https://localhost:8080/"
        },
        "id": "a9pXHmjSJHwn",
        "outputId": "9502e2ce-5f75-43e7-d6c5-14493c5f6099"
      },
      "execution_count": 8,
      "outputs": [
        {
          "output_type": "stream",
          "name": "stdout",
          "text": [
            "Q1: 375.0\n",
            "Q3: 925.0\n",
            "IQR: 550.0\n",
            "Outliers: No Outliers\n"
          ]
        }
      ]
    },
    {
      "cell_type": "markdown",
      "source": [
        "7.Dataset: Ages of employees: 22, 25, 28, 30, 35, 40, 45, 50, 55, 100 Questions:\n",
        "\n",
        "a) Identify any outliers using the IQR method."
      ],
      "metadata": {
        "id": "uAbsFWgXJMLl"
      }
    },
    {
      "cell_type": "code",
      "source": [
        "import statistics as stats\n",
        "\n",
        "# Dataset\n",
        "ages = [22, 25, 28, 30, 35, 40, 45, 50, 55, 100]\n",
        "n = len(ages)\n",
        "\n",
        "# Quartiles\n",
        "#Quartiles and IQR of study_hours\n",
        "Q1 = stats.quantiles(ages)[0]\n",
        "Q2 = stats.quantiles(ages)[1]\n",
        "Q3 = stats.quantiles(ages)[2]\n",
        "IQR = Q3 - Q1\n",
        "\n",
        "# Outlier detection bounds\n",
        "lower_bound = Q1 - 1.5 * IQR\n",
        "upper_bound = Q3 + 1.5 * IQR\n",
        "\n",
        "# Detect outliers\n",
        "outliers = [x for x in ages if x < lower_bound or x > upper_bound]\n",
        "\n",
        "# Print results\n",
        "print(\"Q1:\", Q1)\n",
        "print(\"Q3:\", Q3)\n",
        "print(\"IQR:\", IQR)\n",
        "print(\"Lower Bound:\", lower_bound)\n",
        "print(\"Upper Bound:\", upper_bound)\n",
        "print(\"Outliers:\", outliers if outliers else \"No Outliers\")"
      ],
      "metadata": {
        "colab": {
          "base_uri": "https://localhost:8080/"
        },
        "id": "Szc7OGkjJR75",
        "outputId": "1468b8b0-ee02-4f45-dc5c-d3494130b09f"
      },
      "execution_count": 9,
      "outputs": [
        {
          "output_type": "stream",
          "name": "stdout",
          "text": [
            "Q1: 27.25\n",
            "Q3: 51.25\n",
            "IQR: 24.0\n",
            "Lower Bound: -8.75\n",
            "Upper Bound: 87.25\n",
            "Outliers: [100]\n"
          ]
        }
      ]
    },
    {
      "cell_type": "markdown",
      "source": [
        "8. Dataset: Observed frequencies of customer preferences for three products:\n",
        "\n",
        "Product A: 50, 55, 60\n",
        "\n",
        "Product B: 30, 25, 35\n",
        "\n",
        "Product C: 20, 20, 25\n",
        "\n",
        "Questions: a) Perform a chi-square test to determine if there is a significant difference in customer preferences among the three products.\n",
        "\n",
        "b) Hypothesis Testing"
      ],
      "metadata": {
        "id": "a7Mx1oG4JX30"
      }
    },
    {
      "cell_type": "markdown",
      "source": [
        " 9. Dataset: Sample weights (in kg) of a new diet program: 70, 68, 72, 71, 69, 73,\n",
        " 72, 74, 70, 71 Questions: a) Test the hypothesis that the mean weight after the\n",
        " diet program is equal to 70 kg at a 5% significance level. b) Z-Scores"
      ],
      "metadata": {
        "id": "wpMKrR4IJfHK"
      }
    },
    {
      "cell_type": "code",
      "source": [
        "import statistics as stats\n",
        "import math\n",
        "\n",
        "# Dataset\n",
        "weights = [70, 68, 72, 71, 69, 73, 72, 74, 70, 71]\n",
        "n = len(weights)\n",
        "\n",
        "# Hypothesis test (mean = 70)\n",
        "sample_mean = stats.mean(weights)\n",
        "sample_std = stats.stdev(weights)\n",
        "mu0 = 70\n",
        "\n",
        "# t-test statistic\n",
        "t_stat = (sample_mean - mu0) / (sample_std / math.sqrt(n))\n",
        "\n",
        "print(\"Sample Mean:\", sample_mean)\n",
        "print(\"Sample Std Dev:\", sample_std)\n",
        "print(\"t-statistic:\", t_stat)\n",
        "\n",
        "# Critical value at df = 9, alpha = 0.05 is ±2.262\n",
        "if abs(t_stat) > 2.262:\n",
        "    print(\"Reject H0: Mean is significantly different from 70\")\n",
        "else:\n",
        "    print(\"Fail to reject H0: Mean is not significantly different from 70\")\n",
        "\n",
        "# ---------------------------\n",
        "# Z-scores\n",
        "z_scores = [(x - sample_mean) / sample_std for x in weights]\n",
        "print(\"Z-scores:\", z_scores)"
      ],
      "metadata": {
        "colab": {
          "base_uri": "https://localhost:8080/"
        },
        "id": "UAv0aZ90Jn-K",
        "outputId": "d300260b-74a2-443c-f9b3-0220ae8bcd75"
      },
      "execution_count": 10,
      "outputs": [
        {
          "output_type": "stream",
          "name": "stdout",
          "text": [
            "Sample Mean: 71\n",
            "Sample Std Dev: 1.8257418583505538\n",
            "t-statistic: 1.7320508075688774\n",
            "Fail to reject H0: Mean is not significantly different from 70\n",
            "Z-scores: [-0.5477225575051661, -1.6431676725154982, 0.5477225575051661, 0.0, -1.0954451150103321, 1.0954451150103321, 0.5477225575051661, 1.6431676725154982, -0.5477225575051661, 0.0]\n"
          ]
        }
      ]
    },
    {
      "cell_type": "markdown",
      "source": [
        " 10. Dataset: Annual salaries of employees (in $1000s): 40, 42, 45, 47, 50, 52, 55,\n",
        " 57, 60, 62 Questions:\n",
        "\n",
        " a) Calculate the z-scores for each salary.\n",
        "\n",
        " b) Interpret the z-scores.\n",
        "\n",
        " c) Normal Distribution"
      ],
      "metadata": {
        "id": "UjRsH1PyMGoC"
      }
    },
    {
      "cell_type": "code",
      "source": [
        "import statistics as stats\n",
        "\n",
        "# Dataset\n",
        "salaries = [40, 42, 45, 47, 50, 52, 55, 57, 60, 62]\n",
        "\n",
        "# Step 1: Calculate mean\n",
        "mean_val = stats.mean(salaries)\n",
        "\n",
        "# Step 2: Calculate sample standard deviation\n",
        "std_val = stats.stdev(salaries)\n",
        "\n",
        "# Step 3: Calculate z-scores\n",
        "z_scores = [(x - mean_val) / std_val for x in salaries]\n",
        "\n",
        "# Step 4: Print results\n",
        "print(\"Mean Salary:\", mean_val)\n",
        "print(\"Standard Deviation:\", round(std_val, 2))\n",
        "print(\"Z-scores:\", [round(z, 2) for z in z_scores])\n",
        "\n",
        "\n"
      ],
      "metadata": {
        "colab": {
          "base_uri": "https://localhost:8080/"
        },
        "id": "By306-u4NuzC",
        "outputId": "ee5ee3d0-f806-4722-ab2c-4e0f9ee50ff0"
      },
      "execution_count": 18,
      "outputs": [
        {
          "output_type": "stream",
          "name": "stdout",
          "text": [
            "Mean Salary: 51\n",
            "Standard Deviation: 7.53\n",
            "Z-scores: [-1.46, -1.2, -0.8, -0.53, -0.13, 0.13, 0.53, 0.8, 1.2, 1.46]\n"
          ]
        }
      ]
    },
    {
      "cell_type": "markdown",
      "source": [
        " 11. . Dataset: Scores of students in a standardized test: 85, 87, 90, 92, 95, 97,\n",
        " 100, 102, 105, 107\n",
        "\n",
        " Questions: a) Create a histogram of the test scores.\n",
        "\n",
        " b) Fit a normal distribution to the data and calculate the mean and standard\n",
        " deviation.\n",
        "\n",
        " c) P-Values"
      ],
      "metadata": {
        "id": "94HgAFrtS1lV"
      }
    },
    {
      "cell_type": "code",
      "source": [
        "import math\n",
        "import statistics as stats\n",
        "\n",
        "\n",
        "scores = [85, 87, 90, 92, 95, 97, 100, 102, 105, 107]\n",
        "\n",
        "# Fit a normal distribution\n",
        "mean = stats.mean(scores)\n",
        "stdev = stats.stdev(scores)\n",
        "\n",
        "print(f\"Mean : {mean:.2f}\")\n",
        "print(f\"Standard Deviation : {stdev:.2f}\")"
      ],
      "metadata": {
        "colab": {
          "base_uri": "https://localhost:8080/"
        },
        "id": "pK6cnDbiS5TE",
        "outputId": "5e366303-a313-4162-de99-02d4dd127c59"
      },
      "execution_count": 19,
      "outputs": [
        {
          "output_type": "stream",
          "name": "stdout",
          "text": [
            "Mean : 96.00\n",
            "Standard Deviation : 7.53\n"
          ]
        }
      ]
    }
  ]
}