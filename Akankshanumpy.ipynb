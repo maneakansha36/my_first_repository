{
  "nbformat": 4,
  "nbformat_minor": 0,
  "metadata": {
    "colab": {
      "provenance": [],
      "authorship_tag": "ABX9TyMhMV2s0xwj8zUG+w48j17+",
      "include_colab_link": true
    },
    "kernelspec": {
      "name": "python3",
      "display_name": "Python 3"
    },
    "language_info": {
      "name": "python"
    }
  },
  "cells": [
    {
      "cell_type": "markdown",
      "metadata": {
        "id": "view-in-github",
        "colab_type": "text"
      },
      "source": [
        "<a href=\"https://colab.research.google.com/github/maneakansha36/my_first_repository/blob/main/Akankshanumpy.ipynb\" target=\"_parent\"><img src=\"https://colab.research.google.com/assets/colab-badge.svg\" alt=\"Open In Colab\"/></a>"
      ]
    },
    {
      "cell_type": "code",
      "execution_count": null,
      "metadata": {
        "colab": {
          "base_uri": "https://localhost:8080/"
        },
        "id": "vHYu0yy4nC85",
        "outputId": "3e43527c-8e72-441a-a9c0-3645ec5d45c3"
      },
      "outputs": [
        {
          "output_type": "stream",
          "name": "stdout",
          "text": [
            "[10 11 12 13 14 15 16 17 18 19 20 21 22 23 24 25 26 27 28 29 30 31 32 33\n",
            " 34 35 36 37 38 39 40 41 42 43 44 45 46 47 48 49]\n",
            "[[10 11 12 13 14 15 16 17 18 19]\n",
            " [20 21 22 23 24 25 26 27 28 29]\n",
            " [30 31 32 33 34 35 36 37 38 39]\n",
            " [40 41 42 43 44 45 46 47 48 49]]\n",
            "[19 29 39 49]\n"
          ]
        }
      ],
      "source": [
        "import numpy as np\n",
        "\n",
        "# Create array from 10 to 49 inclusive\n",
        "arr = np.arange(10, 50)\n",
        "\n",
        "# Reshape into 4x10 matrix\n",
        "matrix = arr.reshape(4, 10)\n",
        "\n",
        "# Extract the last column\n",
        "last_column = matrix[:, -1]\n",
        "\n",
        "print (arr)\n",
        "print (matrix)\n",
        "print (last_column)\n"
      ]
    },
    {
      "cell_type": "code",
      "source": [
        "import numpy as np\n",
        "\n",
        "# Create a 3x3 matrix filled with all 5s\n",
        "matrix_5s = np.full((3, 3), 5)\n",
        "\n",
        "# Create a 3x3 matrix with values from 1 to 9\n",
        "matrix_nums = np.arange(1, 10).reshape(3, 3)\n",
        "\n",
        "# Add the two matrices\n",
        "addition_result = matrix_5s + matrix_nums\n",
        "\n",
        "# Multiply them element-wise\n",
        "multiplication_result = matrix_5s * matrix_nums\n",
        "\n",
        "# Transpose of the multiplication result\n",
        "transpose_result = multiplication_result.T\n",
        "\n",
        "print(\"Matrix filled with 5s:\\n\", matrix_5s)\n",
        "print(\"\\nMatrix with values 1 to 9:\\n\", matrix_nums)\n",
        "print(\"\\nAddition Result:\\n\", addition_result)\n",
        "print(\"\\nElement-wise Multiplication Result:\\n\", multiplication_result)\n",
        "print(\"\\nTranspose of Multiplication Result:\\n\", transpose_result)\n"
      ],
      "metadata": {
        "colab": {
          "base_uri": "https://localhost:8080/"
        },
        "id": "-9rqoA7Gn8T6",
        "outputId": "57719da3-49fa-441b-abfb-f62640850dc8"
      },
      "execution_count": null,
      "outputs": [
        {
          "output_type": "stream",
          "name": "stdout",
          "text": [
            "Matrix filled with 5s:\n",
            " [[5 5 5]\n",
            " [5 5 5]\n",
            " [5 5 5]]\n",
            "\n",
            "Matrix with values 1 to 9:\n",
            " [[1 2 3]\n",
            " [4 5 6]\n",
            " [7 8 9]]\n",
            "\n",
            "Addition Result:\n",
            " [[ 6  7  8]\n",
            " [ 9 10 11]\n",
            " [12 13 14]]\n",
            "\n",
            "Element-wise Multiplication Result:\n",
            " [[ 5 10 15]\n",
            " [20 25 30]\n",
            " [35 40 45]]\n",
            "\n",
            "Transpose of Multiplication Result:\n",
            " [[ 5 20 35]\n",
            " [10 25 40]\n",
            " [15 30 45]]\n"
          ]
        }
      ]
    },
    {
      "cell_type": "code",
      "source": [
        "import numpy as np\n",
        "\n",
        "# Create an array of 15 random integers between 10 and 100\n",
        "arr = np.random.randint(10, 101, size=15)\n",
        "\n",
        "# Replace values greater than 50 with -1\n",
        "replaced_arr = np.where(arr > 50, -1, arr)\n",
        "\n",
        "# Count how many values were replaced\n",
        "count_replaced = np.sum(arr > 50)\n",
        "\n",
        "print(\"Original Array:\\n\", arr)\n",
        "print(\"\\nArray after replacement:\\n\", replaced_arr)\n",
        "print(\"\\nNumber of values replaced:\", count_replaced)\n"
      ],
      "metadata": {
        "colab": {
          "base_uri": "https://localhost:8080/"
        },
        "id": "061SlxWc2qbe",
        "outputId": "19e39c96-d841-414d-d4f4-7aee63986996"
      },
      "execution_count": null,
      "outputs": [
        {
          "output_type": "stream",
          "name": "stdout",
          "text": [
            "Original Array:\n",
            " [72 88 62 56 23 43 56 38 76 68 80 76 47 47 81]\n",
            "\n",
            "Array after replacement:\n",
            " [-1 -1 -1 -1 23 43 -1 38 -1 -1 -1 -1 47 47 -1]\n",
            "\n",
            "Number of values replaced: 10\n"
          ]
        }
      ]
    },
    {
      "cell_type": "code",
      "source": [
        "import numpy as np\n",
        "\n",
        "# Step 1: Generate 5x4 random float array between 0 and 1\n",
        "arr = np.random.rand(5, 4)\n",
        "\n",
        "# Step 2: Find the row with maximum sum\n",
        "row_sums = arr.sum(axis=1)\n",
        "max_row_index = np.argmax(row_sums)\n",
        "max_row = arr[max_row_index]\n",
        "\n",
        "# Step 3: Normalize each row\n",
        "row_min = arr.min(axis=1).reshape(-1, 1)\n",
        "row_max = arr.max(axis=1).reshape(-1, 1)\n",
        "normalized_arr = (arr - row_min) / (row_max - row_min)\n",
        "\n",
        "print(\"Original Array:\\n\", arr)\n",
        "print(\"\\nRow sums:\", row_sums)\n",
        "print(\"Row with maximum sum (index {}):\\n\".format(max_row_index), max_row)\n",
        "print(\"\\nNormalized Array:\\n\", normalized_arr)\n"
      ],
      "metadata": {
        "colab": {
          "base_uri": "https://localhost:8080/"
        },
        "id": "JfUH9Rqa3bEr",
        "outputId": "53aaf16b-b64a-42da-8de2-91ddb0d8969c"
      },
      "execution_count": null,
      "outputs": [
        {
          "output_type": "stream",
          "name": "stdout",
          "text": [
            "Original Array:\n",
            " [[0.98658896 0.06443034 0.22495145 0.21362413]\n",
            " [0.68879692 0.17466717 0.51576387 0.76102504]\n",
            " [0.82898832 0.34632024 0.47494133 0.4356597 ]\n",
            " [0.85688651 0.2499749  0.10247192 0.7232341 ]\n",
            " [0.24650303 0.70037527 0.60460648 0.75043667]]\n",
            "\n",
            "Row sums: [1.48959487 2.14025299 2.08590959 1.93256745 2.30192145]\n",
            "Row with maximum sum (index 4):\n",
            " [0.24650303 0.70037527 0.60460648 0.75043667]\n",
            "\n",
            "Normalized Array:\n",
            " [[1.         0.         0.17407104 0.16178756]\n",
            " [0.87681905 0.         0.58172103 1.        ]\n",
            " [1.         0.         0.26647939 0.18509504]\n",
            " [1.         0.19551979 0.         0.82283957]\n",
            " [0.         0.90065873 0.71061627 1.        ]]\n"
          ]
        }
      ]
    },
    {
      "cell_type": "code",
      "source": [
        "import numpy as np\n",
        "\n",
        "# Given array\n",
        "arr = np.array([1, 3, 5, 3, 7, 9, 1, 5, 5])\n",
        "\n",
        "# Find all unique elements\n",
        "unique_elements = np.unique(arr)\n",
        "\n",
        "# Find duplicates (elements appearing more than once)\n",
        "unique_vals, counts = np.unique(arr, return_counts=True)\n",
        "duplicates = unique_vals[counts > 1]\n",
        "\n",
        "print(\"Original Array:\", arr)\n",
        "print(\"Unique Elements:\", unique_elements)\n",
        "print(\"Duplicates:\", duplicates)\n"
      ],
      "metadata": {
        "colab": {
          "base_uri": "https://localhost:8080/"
        },
        "id": "TQ5P9Afs3otl",
        "outputId": "2ff568ff-0e43-4674-df14-82e242bab737"
      },
      "execution_count": null,
      "outputs": [
        {
          "output_type": "stream",
          "name": "stdout",
          "text": [
            "Original Array: [1 3 5 3 7 9 1 5 5]\n",
            "Unique Elements: [1 3 5 7 9]\n",
            "Duplicates: [1 3 5]\n"
          ]
        }
      ]
    },
    {
      "cell_type": "code",
      "source": [
        "import numpy as np\n",
        "\n",
        "# Create 6x6 array with values from 1 to 36\n",
        "arr = np.arange(1, 37).reshape(6, 6)\n",
        "\n",
        "# Extract the middle 4x4 submatrix (rows 1:5 and cols 1:5)\n",
        "submatrix = arr[1:5, 1:5]\n",
        "\n",
        "# Extract even numbers from the submatrix\n",
        "even_numbers = submatrix[submatrix % 2 == 0]\n",
        "\n",
        "print(\"Original 6x6 Array:\\n\", arr)\n",
        "print(\"\\nMiddle 4x4 Submatrix:\\n\", submatrix)\n",
        "print(\"\\nEven Numbers from Submatrix:\\n\", even_numbers)\n"
      ],
      "metadata": {
        "colab": {
          "base_uri": "https://localhost:8080/"
        },
        "id": "0TuaOaRG3rUV",
        "outputId": "6ab78e58-0a12-44a1-ba58-7588fe7e86ca"
      },
      "execution_count": null,
      "outputs": [
        {
          "output_type": "stream",
          "name": "stdout",
          "text": [
            "Original 6x6 Array:\n",
            " [[ 1  2  3  4  5  6]\n",
            " [ 7  8  9 10 11 12]\n",
            " [13 14 15 16 17 18]\n",
            " [19 20 21 22 23 24]\n",
            " [25 26 27 28 29 30]\n",
            " [31 32 33 34 35 36]]\n",
            "\n",
            "Middle 4x4 Submatrix:\n",
            " [[ 8  9 10 11]\n",
            " [14 15 16 17]\n",
            " [20 21 22 23]\n",
            " [26 27 28 29]]\n",
            "\n",
            "Even Numbers from Submatrix:\n",
            " [ 8 10 14 16 20 22 26 28]\n"
          ]
        }
      ]
    },
    {
      "cell_type": "code",
      "source": [
        "import numpy as np\n",
        "\n",
        "# Generate array of shape (3, 4) with values from 0 to 11\n",
        "arr = np.arange(12).reshape(3, 4)\n",
        "\n",
        "# Reshape to (2, 6)\n",
        "reshaped_2x6 = arr.reshape(2, 6)\n",
        "\n",
        "# Flatten into 1D array\n",
        "flattened = arr.flatten()\n",
        "\n",
        "# Convert back to shape (4, 3)\n",
        "reshaped_4x3 = flattened.reshape(4, 3)\n",
        "\n",
        "print(\"Original (3x4) Array:\\n\", arr)\n",
        "print(\"\\nReshaped to (2x6):\\n\", reshaped_2x6)\n",
        "print(\"\\nFlattened 1D Array:\\n\", flattened)\n",
        "print(\"\\nReshaped back to (4x3):\\n\", reshaped_4x3)\n"
      ],
      "metadata": {
        "colab": {
          "base_uri": "https://localhost:8080/"
        },
        "id": "yec5JSq9310Y",
        "outputId": "fe07d31f-2be0-4bf2-d8cd-356cc32ba705"
      },
      "execution_count": null,
      "outputs": [
        {
          "output_type": "stream",
          "name": "stdout",
          "text": [
            "Original (3x4) Array:\n",
            " [[ 0  1  2  3]\n",
            " [ 4  5  6  7]\n",
            " [ 8  9 10 11]]\n",
            "\n",
            "Reshaped to (2x6):\n",
            " [[ 0  1  2  3  4  5]\n",
            " [ 6  7  8  9 10 11]]\n",
            "\n",
            "Flattened 1D Array:\n",
            " [ 0  1  2  3  4  5  6  7  8  9 10 11]\n",
            "\n",
            "Reshaped back to (4x3):\n",
            " [[ 0  1  2]\n",
            " [ 3  4  5]\n",
            " [ 6  7  8]\n",
            " [ 9 10 11]]\n"
          ]
        }
      ]
    },
    {
      "cell_type": "code",
      "source": [
        "import numpy as np\n",
        "\n",
        "# Original array\n",
        "a = np.array([[1, 2], [3, 4]])\n",
        "\n",
        "# Append a new row [5, 6]\n",
        "a_with_row = np.vstack([a, [5, 6]])\n",
        "\n",
        "# Append a new column [7, 8, 9]\n",
        "# Reshape the column to match the number of rows\n",
        "new_column = np.array([7, 8, 9]).reshape(-1, 1)\n",
        "a_with_column = np.hstack([a_with_row, new_column])\n",
        "\n",
        "print(\"Original Array:\\n\", a)\n",
        "print(\"\\nAfter appending new row:\\n\", a_with_row)\n",
        "print(\"\\nAfter appending new column:\\n\", a_with_column)\n"
      ],
      "metadata": {
        "colab": {
          "base_uri": "https://localhost:8080/"
        },
        "id": "M0s_ZLlA4BV2",
        "outputId": "3cd22e63-5042-4d1c-9ab3-770c5373088b"
      },
      "execution_count": null,
      "outputs": [
        {
          "output_type": "stream",
          "name": "stdout",
          "text": [
            "Original Array:\n",
            " [[1 2]\n",
            " [3 4]]\n",
            "\n",
            "After appending new row:\n",
            " [[1 2]\n",
            " [3 4]\n",
            " [5 6]]\n",
            "\n",
            "After appending new column:\n",
            " [[1 2 7]\n",
            " [3 4 8]\n",
            " [5 6 9]]\n"
          ]
        }
      ]
    },
    {
      "cell_type": "code",
      "source": [
        "import numpy as np\n",
        "\n",
        "# Given arrays\n",
        "a = np.array([1, 2, 3])\n",
        "b = np.array([4, 5, 6])\n",
        "c = np.array([7, 8, 9])\n",
        "\n",
        "# Join them into a single array\n",
        "joined_array = np.concatenate([a, b, c])\n",
        "\n",
        "# Reshape into a 3x3 matrix\n",
        "matrix_3x3 = joined_array.reshape(3, 3)\n",
        "\n",
        "# Extract the diagonal elements\n",
        "diagonal_elements = np.diag(matrix_3x3)\n",
        "\n",
        "print(\"Joined Array:\", joined_array)\n",
        "print(\"\\nReshaped 3x3 Matrix:\\n\", matrix_3x3)\n",
        "print(\"\\nDiagonal Elements:\", diagonal_elements)\n"
      ],
      "metadata": {
        "colab": {
          "base_uri": "https://localhost:8080/"
        },
        "id": "R0Mv-S464Ngc",
        "outputId": "8fc55e02-5790-4edd-950b-0abfe5eb801b"
      },
      "execution_count": null,
      "outputs": [
        {
          "output_type": "stream",
          "name": "stdout",
          "text": [
            "Joined Array: [1 2 3 4 5 6 7 8 9]\n",
            "\n",
            "Reshaped 3x3 Matrix:\n",
            " [[1 2 3]\n",
            " [4 5 6]\n",
            " [7 8 9]]\n",
            "\n",
            "Diagonal Elements: [1 5 9]\n"
          ]
        }
      ]
    },
    {
      "cell_type": "code",
      "source": [
        "import numpy as np\n",
        "\n",
        "# Create array of integers from 1 to 20\n",
        "arr = np.arange(1, 21)\n",
        "\n",
        "# Extract values divisible by 3 or 5\n",
        "divisible_by_3_or_5 = arr[(arr % 3 == 0) | (arr % 5 == 0)]\n",
        "\n",
        "# Count how many such values exist\n",
        "count_divisible = divisible_by_3_or_5.size\n",
        "\n",
        "print(\"Original Array:\", arr)\n",
        "print(\"Values divisible by 3 or 5:\", divisible_by_3_or_5)\n",
        "print(\"Count of values divisible by 3 or 5:\", count_divisible)\n"
      ],
      "metadata": {
        "colab": {
          "base_uri": "https://localhost:8080/"
        },
        "id": "BsdHhFER4Z6T",
        "outputId": "308d1241-9099-4b1b-e5cb-60a42d422a94"
      },
      "execution_count": null,
      "outputs": [
        {
          "output_type": "stream",
          "name": "stdout",
          "text": [
            "Original Array: [ 1  2  3  4  5  6  7  8  9 10 11 12 13 14 15 16 17 18 19 20]\n",
            "Values divisible by 3 or 5: [ 3  5  6  9 10 12 15 18 20]\n",
            "Count of values divisible by 3 or 5: 9\n"
          ]
        }
      ]
    },
    {
      "cell_type": "markdown",
      "source": [
        "# Pandas"
      ],
      "metadata": {
        "id": "CNVlrbu94wu_"
      }
    },
    {
      "cell_type": "code",
      "source": [
        "import seaborn as sns\n",
        "data = sns.load_dataset('titanic')\n",
        "sns.get_dataset_names()\n"
      ],
      "metadata": {
        "id": "ZA61TVG06OmR",
        "colab": {
          "base_uri": "https://localhost:8080/"
        },
        "outputId": "1617f528-f468-4494-93ea-e848623d8dc7"
      },
      "execution_count": 15,
      "outputs": [
        {
          "output_type": "execute_result",
          "data": {
            "text/plain": [
              "['anagrams',\n",
              " 'anscombe',\n",
              " 'attention',\n",
              " 'brain_networks',\n",
              " 'car_crashes',\n",
              " 'diamonds',\n",
              " 'dots',\n",
              " 'dowjones',\n",
              " 'exercise',\n",
              " 'flights',\n",
              " 'fmri',\n",
              " 'geyser',\n",
              " 'glue',\n",
              " 'healthexp',\n",
              " 'iris',\n",
              " 'mpg',\n",
              " 'penguins',\n",
              " 'planets',\n",
              " 'seaice',\n",
              " 'taxis',\n",
              " 'tips',\n",
              " 'titanic']"
            ]
          },
          "metadata": {},
          "execution_count": 15
        }
      ]
    },
    {
      "cell_type": "code",
      "source": [
        "import pandas as pd\n",
        "import seaborn as sns\n",
        "\n",
        "# Load the Titanic dataset directly from seaborn\n",
        "df = sns.load_dataset('titanic')\n",
        "\n",
        "# Display the first 10 rows\n",
        "display(df.head(10))"
      ],
      "metadata": {
        "colab": {
          "base_uri": "https://localhost:8080/",
          "height": 363
        },
        "id": "SyVjqcYZ5bDs",
        "outputId": "fbfe7362-30f5-47f8-b212-94711baf7c8c"
      },
      "execution_count": 17,
      "outputs": [
        {
          "output_type": "display_data",
          "data": {
            "text/plain": [
              "   survived  pclass     sex   age  sibsp  parch     fare embarked   class  \\\n",
              "0         0       3    male  22.0      1      0   7.2500        S   Third   \n",
              "1         1       1  female  38.0      1      0  71.2833        C   First   \n",
              "2         1       3  female  26.0      0      0   7.9250        S   Third   \n",
              "3         1       1  female  35.0      1      0  53.1000        S   First   \n",
              "4         0       3    male  35.0      0      0   8.0500        S   Third   \n",
              "5         0       3    male   NaN      0      0   8.4583        Q   Third   \n",
              "6         0       1    male  54.0      0      0  51.8625        S   First   \n",
              "7         0       3    male   2.0      3      1  21.0750        S   Third   \n",
              "8         1       3  female  27.0      0      2  11.1333        S   Third   \n",
              "9         1       2  female  14.0      1      0  30.0708        C  Second   \n",
              "\n",
              "     who  adult_male deck  embark_town alive  alone  \n",
              "0    man        True  NaN  Southampton    no  False  \n",
              "1  woman       False    C    Cherbourg   yes  False  \n",
              "2  woman       False  NaN  Southampton   yes   True  \n",
              "3  woman       False    C  Southampton   yes  False  \n",
              "4    man        True  NaN  Southampton    no   True  \n",
              "5    man        True  NaN   Queenstown    no   True  \n",
              "6    man        True    E  Southampton    no   True  \n",
              "7  child       False  NaN  Southampton    no  False  \n",
              "8  woman       False  NaN  Southampton   yes  False  \n",
              "9  child       False  NaN    Cherbourg   yes  False  "
            ],
            "text/html": [
              "\n",
              "  <div id=\"df-9befb496-128b-412b-84c9-5a755ea014b8\" class=\"colab-df-container\">\n",
              "    <div>\n",
              "<style scoped>\n",
              "    .dataframe tbody tr th:only-of-type {\n",
              "        vertical-align: middle;\n",
              "    }\n",
              "\n",
              "    .dataframe tbody tr th {\n",
              "        vertical-align: top;\n",
              "    }\n",
              "\n",
              "    .dataframe thead th {\n",
              "        text-align: right;\n",
              "    }\n",
              "</style>\n",
              "<table border=\"1\" class=\"dataframe\">\n",
              "  <thead>\n",
              "    <tr style=\"text-align: right;\">\n",
              "      <th></th>\n",
              "      <th>survived</th>\n",
              "      <th>pclass</th>\n",
              "      <th>sex</th>\n",
              "      <th>age</th>\n",
              "      <th>sibsp</th>\n",
              "      <th>parch</th>\n",
              "      <th>fare</th>\n",
              "      <th>embarked</th>\n",
              "      <th>class</th>\n",
              "      <th>who</th>\n",
              "      <th>adult_male</th>\n",
              "      <th>deck</th>\n",
              "      <th>embark_town</th>\n",
              "      <th>alive</th>\n",
              "      <th>alone</th>\n",
              "    </tr>\n",
              "  </thead>\n",
              "  <tbody>\n",
              "    <tr>\n",
              "      <th>0</th>\n",
              "      <td>0</td>\n",
              "      <td>3</td>\n",
              "      <td>male</td>\n",
              "      <td>22.0</td>\n",
              "      <td>1</td>\n",
              "      <td>0</td>\n",
              "      <td>7.2500</td>\n",
              "      <td>S</td>\n",
              "      <td>Third</td>\n",
              "      <td>man</td>\n",
              "      <td>True</td>\n",
              "      <td>NaN</td>\n",
              "      <td>Southampton</td>\n",
              "      <td>no</td>\n",
              "      <td>False</td>\n",
              "    </tr>\n",
              "    <tr>\n",
              "      <th>1</th>\n",
              "      <td>1</td>\n",
              "      <td>1</td>\n",
              "      <td>female</td>\n",
              "      <td>38.0</td>\n",
              "      <td>1</td>\n",
              "      <td>0</td>\n",
              "      <td>71.2833</td>\n",
              "      <td>C</td>\n",
              "      <td>First</td>\n",
              "      <td>woman</td>\n",
              "      <td>False</td>\n",
              "      <td>C</td>\n",
              "      <td>Cherbourg</td>\n",
              "      <td>yes</td>\n",
              "      <td>False</td>\n",
              "    </tr>\n",
              "    <tr>\n",
              "      <th>2</th>\n",
              "      <td>1</td>\n",
              "      <td>3</td>\n",
              "      <td>female</td>\n",
              "      <td>26.0</td>\n",
              "      <td>0</td>\n",
              "      <td>0</td>\n",
              "      <td>7.9250</td>\n",
              "      <td>S</td>\n",
              "      <td>Third</td>\n",
              "      <td>woman</td>\n",
              "      <td>False</td>\n",
              "      <td>NaN</td>\n",
              "      <td>Southampton</td>\n",
              "      <td>yes</td>\n",
              "      <td>True</td>\n",
              "    </tr>\n",
              "    <tr>\n",
              "      <th>3</th>\n",
              "      <td>1</td>\n",
              "      <td>1</td>\n",
              "      <td>female</td>\n",
              "      <td>35.0</td>\n",
              "      <td>1</td>\n",
              "      <td>0</td>\n",
              "      <td>53.1000</td>\n",
              "      <td>S</td>\n",
              "      <td>First</td>\n",
              "      <td>woman</td>\n",
              "      <td>False</td>\n",
              "      <td>C</td>\n",
              "      <td>Southampton</td>\n",
              "      <td>yes</td>\n",
              "      <td>False</td>\n",
              "    </tr>\n",
              "    <tr>\n",
              "      <th>4</th>\n",
              "      <td>0</td>\n",
              "      <td>3</td>\n",
              "      <td>male</td>\n",
              "      <td>35.0</td>\n",
              "      <td>0</td>\n",
              "      <td>0</td>\n",
              "      <td>8.0500</td>\n",
              "      <td>S</td>\n",
              "      <td>Third</td>\n",
              "      <td>man</td>\n",
              "      <td>True</td>\n",
              "      <td>NaN</td>\n",
              "      <td>Southampton</td>\n",
              "      <td>no</td>\n",
              "      <td>True</td>\n",
              "    </tr>\n",
              "    <tr>\n",
              "      <th>5</th>\n",
              "      <td>0</td>\n",
              "      <td>3</td>\n",
              "      <td>male</td>\n",
              "      <td>NaN</td>\n",
              "      <td>0</td>\n",
              "      <td>0</td>\n",
              "      <td>8.4583</td>\n",
              "      <td>Q</td>\n",
              "      <td>Third</td>\n",
              "      <td>man</td>\n",
              "      <td>True</td>\n",
              "      <td>NaN</td>\n",
              "      <td>Queenstown</td>\n",
              "      <td>no</td>\n",
              "      <td>True</td>\n",
              "    </tr>\n",
              "    <tr>\n",
              "      <th>6</th>\n",
              "      <td>0</td>\n",
              "      <td>1</td>\n",
              "      <td>male</td>\n",
              "      <td>54.0</td>\n",
              "      <td>0</td>\n",
              "      <td>0</td>\n",
              "      <td>51.8625</td>\n",
              "      <td>S</td>\n",
              "      <td>First</td>\n",
              "      <td>man</td>\n",
              "      <td>True</td>\n",
              "      <td>E</td>\n",
              "      <td>Southampton</td>\n",
              "      <td>no</td>\n",
              "      <td>True</td>\n",
              "    </tr>\n",
              "    <tr>\n",
              "      <th>7</th>\n",
              "      <td>0</td>\n",
              "      <td>3</td>\n",
              "      <td>male</td>\n",
              "      <td>2.0</td>\n",
              "      <td>3</td>\n",
              "      <td>1</td>\n",
              "      <td>21.0750</td>\n",
              "      <td>S</td>\n",
              "      <td>Third</td>\n",
              "      <td>child</td>\n",
              "      <td>False</td>\n",
              "      <td>NaN</td>\n",
              "      <td>Southampton</td>\n",
              "      <td>no</td>\n",
              "      <td>False</td>\n",
              "    </tr>\n",
              "    <tr>\n",
              "      <th>8</th>\n",
              "      <td>1</td>\n",
              "      <td>3</td>\n",
              "      <td>female</td>\n",
              "      <td>27.0</td>\n",
              "      <td>0</td>\n",
              "      <td>2</td>\n",
              "      <td>11.1333</td>\n",
              "      <td>S</td>\n",
              "      <td>Third</td>\n",
              "      <td>woman</td>\n",
              "      <td>False</td>\n",
              "      <td>NaN</td>\n",
              "      <td>Southampton</td>\n",
              "      <td>yes</td>\n",
              "      <td>False</td>\n",
              "    </tr>\n",
              "    <tr>\n",
              "      <th>9</th>\n",
              "      <td>1</td>\n",
              "      <td>2</td>\n",
              "      <td>female</td>\n",
              "      <td>14.0</td>\n",
              "      <td>1</td>\n",
              "      <td>0</td>\n",
              "      <td>30.0708</td>\n",
              "      <td>C</td>\n",
              "      <td>Second</td>\n",
              "      <td>child</td>\n",
              "      <td>False</td>\n",
              "      <td>NaN</td>\n",
              "      <td>Cherbourg</td>\n",
              "      <td>yes</td>\n",
              "      <td>False</td>\n",
              "    </tr>\n",
              "  </tbody>\n",
              "</table>\n",
              "</div>\n",
              "    <div class=\"colab-df-buttons\">\n",
              "\n",
              "  <div class=\"colab-df-container\">\n",
              "    <button class=\"colab-df-convert\" onclick=\"convertToInteractive('df-9befb496-128b-412b-84c9-5a755ea014b8')\"\n",
              "            title=\"Convert this dataframe to an interactive table.\"\n",
              "            style=\"display:none;\">\n",
              "\n",
              "  <svg xmlns=\"http://www.w3.org/2000/svg\" height=\"24px\" viewBox=\"0 -960 960 960\">\n",
              "    <path d=\"M120-120v-720h720v720H120Zm60-500h600v-160H180v160Zm220 220h160v-160H400v160Zm0 220h160v-160H400v160ZM180-400h160v-160H180v160Zm440 0h160v-160H620v160ZM180-180h160v-160H180v160Zm440 0h160v-160H620v160Z\"/>\n",
              "  </svg>\n",
              "    </button>\n",
              "\n",
              "  <style>\n",
              "    .colab-df-container {\n",
              "      display:flex;\n",
              "      gap: 12px;\n",
              "    }\n",
              "\n",
              "    .colab-df-convert {\n",
              "      background-color: #E8F0FE;\n",
              "      border: none;\n",
              "      border-radius: 50%;\n",
              "      cursor: pointer;\n",
              "      display: none;\n",
              "      fill: #1967D2;\n",
              "      height: 32px;\n",
              "      padding: 0 0 0 0;\n",
              "      width: 32px;\n",
              "    }\n",
              "\n",
              "    .colab-df-convert:hover {\n",
              "      background-color: #E2EBFA;\n",
              "      box-shadow: 0px 1px 2px rgba(60, 64, 67, 0.3), 0px 1px 3px 1px rgba(60, 64, 67, 0.15);\n",
              "      fill: #174EA6;\n",
              "    }\n",
              "\n",
              "    .colab-df-buttons div {\n",
              "      margin-bottom: 4px;\n",
              "    }\n",
              "\n",
              "    [theme=dark] .colab-df-convert {\n",
              "      background-color: #3B4455;\n",
              "      fill: #D2E3FC;\n",
              "    }\n",
              "\n",
              "    [theme=dark] .colab-df-convert:hover {\n",
              "      background-color: #434B5C;\n",
              "      box-shadow: 0px 1px 3px 1px rgba(0, 0, 0, 0.15);\n",
              "      filter: drop-shadow(0px 1px 2px rgba(0, 0, 0, 0.3));\n",
              "      fill: #FFFFFF;\n",
              "    }\n",
              "  </style>\n",
              "\n",
              "    <script>\n",
              "      const buttonEl =\n",
              "        document.querySelector('#df-9befb496-128b-412b-84c9-5a755ea014b8 button.colab-df-convert');\n",
              "      buttonEl.style.display =\n",
              "        google.colab.kernel.accessAllowed ? 'block' : 'none';\n",
              "\n",
              "      async function convertToInteractive(key) {\n",
              "        const element = document.querySelector('#df-9befb496-128b-412b-84c9-5a755ea014b8');\n",
              "        const dataTable =\n",
              "          await google.colab.kernel.invokeFunction('convertToInteractive',\n",
              "                                                    [key], {});\n",
              "        if (!dataTable) return;\n",
              "\n",
              "        const docLinkHtml = 'Like what you see? Visit the ' +\n",
              "          '<a target=\"_blank\" href=https://colab.research.google.com/notebooks/data_table.ipynb>data table notebook</a>'\n",
              "          + ' to learn more about interactive tables.';\n",
              "        element.innerHTML = '';\n",
              "        dataTable['output_type'] = 'display_data';\n",
              "        await google.colab.output.renderOutput(dataTable, element);\n",
              "        const docLink = document.createElement('div');\n",
              "        docLink.innerHTML = docLinkHtml;\n",
              "        element.appendChild(docLink);\n",
              "      }\n",
              "    </script>\n",
              "  </div>\n",
              "\n",
              "\n",
              "    <div id=\"df-d0580644-076f-4971-ac33-d45cc7eb8d35\">\n",
              "      <button class=\"colab-df-quickchart\" onclick=\"quickchart('df-d0580644-076f-4971-ac33-d45cc7eb8d35')\"\n",
              "                title=\"Suggest charts\"\n",
              "                style=\"display:none;\">\n",
              "\n",
              "<svg xmlns=\"http://www.w3.org/2000/svg\" height=\"24px\"viewBox=\"0 0 24 24\"\n",
              "     width=\"24px\">\n",
              "    <g>\n",
              "        <path d=\"M19 3H5c-1.1 0-2 .9-2 2v14c0 1.1.9 2 2 2h14c1.1 0 2-.9 2-2V5c0-1.1-.9-2-2-2zM9 17H7v-7h2v7zm4 0h-2V7h2v10zm4 0h-2v-4h2v4z\"/>\n",
              "    </g>\n",
              "</svg>\n",
              "      </button>\n",
              "\n",
              "<style>\n",
              "  .colab-df-quickchart {\n",
              "      --bg-color: #E8F0FE;\n",
              "      --fill-color: #1967D2;\n",
              "      --hover-bg-color: #E2EBFA;\n",
              "      --hover-fill-color: #174EA6;\n",
              "      --disabled-fill-color: #AAA;\n",
              "      --disabled-bg-color: #DDD;\n",
              "  }\n",
              "\n",
              "  [theme=dark] .colab-df-quickchart {\n",
              "      --bg-color: #3B4455;\n",
              "      --fill-color: #D2E3FC;\n",
              "      --hover-bg-color: #434B5C;\n",
              "      --hover-fill-color: #FFFFFF;\n",
              "      --disabled-bg-color: #3B4455;\n",
              "      --disabled-fill-color: #666;\n",
              "  }\n",
              "\n",
              "  .colab-df-quickchart {\n",
              "    background-color: var(--bg-color);\n",
              "    border: none;\n",
              "    border-radius: 50%;\n",
              "    cursor: pointer;\n",
              "    display: none;\n",
              "    fill: var(--fill-color);\n",
              "    height: 32px;\n",
              "    padding: 0;\n",
              "    width: 32px;\n",
              "  }\n",
              "\n",
              "  .colab-df-quickchart:hover {\n",
              "    background-color: var(--hover-bg-color);\n",
              "    box-shadow: 0 1px 2px rgba(60, 64, 67, 0.3), 0 1px 3px 1px rgba(60, 64, 67, 0.15);\n",
              "    fill: var(--button-hover-fill-color);\n",
              "  }\n",
              "\n",
              "  .colab-df-quickchart-complete:disabled,\n",
              "  .colab-df-quickchart-complete:disabled:hover {\n",
              "    background-color: var(--disabled-bg-color);\n",
              "    fill: var(--disabled-fill-color);\n",
              "    box-shadow: none;\n",
              "  }\n",
              "\n",
              "  .colab-df-spinner {\n",
              "    border: 2px solid var(--fill-color);\n",
              "    border-color: transparent;\n",
              "    border-bottom-color: var(--fill-color);\n",
              "    animation:\n",
              "      spin 1s steps(1) infinite;\n",
              "  }\n",
              "\n",
              "  @keyframes spin {\n",
              "    0% {\n",
              "      border-color: transparent;\n",
              "      border-bottom-color: var(--fill-color);\n",
              "      border-left-color: var(--fill-color);\n",
              "    }\n",
              "    20% {\n",
              "      border-color: transparent;\n",
              "      border-left-color: var(--fill-color);\n",
              "      border-top-color: var(--fill-color);\n",
              "    }\n",
              "    30% {\n",
              "      border-color: transparent;\n",
              "      border-left-color: var(--fill-color);\n",
              "      border-top-color: var(--fill-color);\n",
              "      border-right-color: var(--fill-color);\n",
              "    }\n",
              "    40% {\n",
              "      border-color: transparent;\n",
              "      border-right-color: var(--fill-color);\n",
              "      border-top-color: var(--fill-color);\n",
              "    }\n",
              "    60% {\n",
              "      border-color: transparent;\n",
              "      border-right-color: var(--fill-color);\n",
              "    }\n",
              "    80% {\n",
              "      border-color: transparent;\n",
              "      border-right-color: var(--fill-color);\n",
              "      border-bottom-color: var(--fill-color);\n",
              "    }\n",
              "    90% {\n",
              "      border-color: transparent;\n",
              "      border-bottom-color: var(--fill-color);\n",
              "    }\n",
              "  }\n",
              "</style>\n",
              "\n",
              "      <script>\n",
              "        async function quickchart(key) {\n",
              "          const quickchartButtonEl =\n",
              "            document.querySelector('#' + key + ' button');\n",
              "          quickchartButtonEl.disabled = true;  // To prevent multiple clicks.\n",
              "          quickchartButtonEl.classList.add('colab-df-spinner');\n",
              "          try {\n",
              "            const charts = await google.colab.kernel.invokeFunction(\n",
              "                'suggestCharts', [key], {});\n",
              "          } catch (error) {\n",
              "            console.error('Error during call to suggestCharts:', error);\n",
              "          }\n",
              "          quickchartButtonEl.classList.remove('colab-df-spinner');\n",
              "          quickchartButtonEl.classList.add('colab-df-quickchart-complete');\n",
              "        }\n",
              "        (() => {\n",
              "          let quickchartButtonEl =\n",
              "            document.querySelector('#df-d0580644-076f-4971-ac33-d45cc7eb8d35 button');\n",
              "          quickchartButtonEl.style.display =\n",
              "            google.colab.kernel.accessAllowed ? 'block' : 'none';\n",
              "        })();\n",
              "      </script>\n",
              "    </div>\n",
              "\n",
              "    </div>\n",
              "  </div>\n"
            ],
            "application/vnd.google.colaboratory.intrinsic+json": {
              "type": "dataframe",
              "summary": "{\n  \"name\": \"display(df\",\n  \"rows\": 10,\n  \"fields\": [\n    {\n      \"column\": \"survived\",\n      \"properties\": {\n        \"dtype\": \"number\",\n        \"std\": 0,\n        \"min\": 0,\n        \"max\": 1,\n        \"num_unique_values\": 2,\n        \"samples\": [\n          1,\n          0\n        ],\n        \"semantic_type\": \"\",\n        \"description\": \"\"\n      }\n    },\n    {\n      \"column\": \"pclass\",\n      \"properties\": {\n        \"dtype\": \"number\",\n        \"std\": 0,\n        \"min\": 1,\n        \"max\": 3,\n        \"num_unique_values\": 3,\n        \"samples\": [\n          3,\n          1\n        ],\n        \"semantic_type\": \"\",\n        \"description\": \"\"\n      }\n    },\n    {\n      \"column\": \"sex\",\n      \"properties\": {\n        \"dtype\": \"category\",\n        \"num_unique_values\": 2,\n        \"samples\": [\n          \"female\",\n          \"male\"\n        ],\n        \"semantic_type\": \"\",\n        \"description\": \"\"\n      }\n    },\n    {\n      \"column\": \"age\",\n      \"properties\": {\n        \"dtype\": \"number\",\n        \"std\": 14.945270526528155,\n        \"min\": 2.0,\n        \"max\": 54.0,\n        \"num_unique_values\": 8,\n        \"samples\": [\n          38.0,\n          2.0\n        ],\n        \"semantic_type\": \"\",\n        \"description\": \"\"\n      }\n    },\n    {\n      \"column\": \"sibsp\",\n      \"properties\": {\n        \"dtype\": \"number\",\n        \"std\": 0,\n        \"min\": 0,\n        \"max\": 3,\n        \"num_unique_values\": 3,\n        \"samples\": [\n          1,\n          0\n        ],\n        \"semantic_type\": \"\",\n        \"description\": \"\"\n      }\n    },\n    {\n      \"column\": \"parch\",\n      \"properties\": {\n        \"dtype\": \"number\",\n        \"std\": 0,\n        \"min\": 0,\n        \"max\": 2,\n        \"num_unique_values\": 3,\n        \"samples\": [\n          0,\n          1\n        ],\n        \"semantic_type\": \"\",\n        \"description\": \"\"\n      }\n    },\n    {\n      \"column\": \"fare\",\n      \"properties\": {\n        \"dtype\": \"number\",\n        \"std\": 23.601937540135225,\n        \"min\": 7.25,\n        \"max\": 71.2833,\n        \"num_unique_values\": 10,\n        \"samples\": [\n          11.1333,\n          71.2833\n        ],\n        \"semantic_type\": \"\",\n        \"description\": \"\"\n      }\n    },\n    {\n      \"column\": \"embarked\",\n      \"properties\": {\n        \"dtype\": \"category\",\n        \"num_unique_values\": 3,\n        \"samples\": [\n          \"S\",\n          \"C\"\n        ],\n        \"semantic_type\": \"\",\n        \"description\": \"\"\n      }\n    },\n    {\n      \"column\": \"class\",\n      \"properties\": {\n        \"dtype\": \"category\",\n        \"num_unique_values\": 3,\n        \"samples\": [\n          \"Third\",\n          \"First\"\n        ],\n        \"semantic_type\": \"\",\n        \"description\": \"\"\n      }\n    },\n    {\n      \"column\": \"who\",\n      \"properties\": {\n        \"dtype\": \"category\",\n        \"num_unique_values\": 3,\n        \"samples\": [\n          \"man\",\n          \"woman\"\n        ],\n        \"semantic_type\": \"\",\n        \"description\": \"\"\n      }\n    },\n    {\n      \"column\": \"adult_male\",\n      \"properties\": {\n        \"dtype\": \"boolean\",\n        \"num_unique_values\": 2,\n        \"samples\": [\n          false,\n          true\n        ],\n        \"semantic_type\": \"\",\n        \"description\": \"\"\n      }\n    },\n    {\n      \"column\": \"deck\",\n      \"properties\": {\n        \"dtype\": \"category\",\n        \"num_unique_values\": 2,\n        \"samples\": [\n          \"E\",\n          \"C\"\n        ],\n        \"semantic_type\": \"\",\n        \"description\": \"\"\n      }\n    },\n    {\n      \"column\": \"embark_town\",\n      \"properties\": {\n        \"dtype\": \"category\",\n        \"num_unique_values\": 3,\n        \"samples\": [\n          \"Southampton\",\n          \"Cherbourg\"\n        ],\n        \"semantic_type\": \"\",\n        \"description\": \"\"\n      }\n    },\n    {\n      \"column\": \"alive\",\n      \"properties\": {\n        \"dtype\": \"category\",\n        \"num_unique_values\": 2,\n        \"samples\": [\n          \"yes\",\n          \"no\"\n        ],\n        \"semantic_type\": \"\",\n        \"description\": \"\"\n      }\n    },\n    {\n      \"column\": \"alone\",\n      \"properties\": {\n        \"dtype\": \"boolean\",\n        \"num_unique_values\": 2,\n        \"samples\": [\n          true,\n          false\n        ],\n        \"semantic_type\": \"\",\n        \"description\": \"\"\n      }\n    }\n  ]\n}"
            }
          },
          "metadata": {}
        }
      ]
    },
    {
      "cell_type": "code",
      "source": [
        "import pandas as pd\n",
        "import seaborn as sns # Import seaborn as it was used to load the dataset initially\n",
        "\n",
        "# Find the number of missing values in each column\n",
        "missing_values = df.isnull().sum()\n",
        "\n",
        "print(\"Number of missing values in each column:\\n\", missing_values)"
      ],
      "metadata": {
        "colab": {
          "base_uri": "https://localhost:8080/"
        },
        "id": "bLyXUECx76vI",
        "outputId": "49b38468-5dd7-4071-b5d6-865b144ce1fd"
      },
      "execution_count": 46,
      "outputs": [
        {
          "output_type": "stream",
          "name": "stdout",
          "text": [
            "Number of missing values in each column:\n",
            " survived         0\n",
            "pclass           0\n",
            "sex              0\n",
            "age              0\n",
            "sibsp            0\n",
            "parch            0\n",
            "fare             0\n",
            "embarked         2\n",
            "class            0\n",
            "who              0\n",
            "adult_male       0\n",
            "deck           688\n",
            "embark_town      2\n",
            "alive            0\n",
            "alone            0\n",
            "age_group        0\n",
            "dtype: int64\n"
          ]
        }
      ]
    },
    {
      "cell_type": "code",
      "source": [
        "import pandas as pd\n",
        "\n",
        "\n",
        "# Calculate survival percentage grouped by gender\n",
        "survival_percentage = df.groupby('sex')['survived'].mean() * 100\n",
        "\n",
        "print(\"Percentage of passengers who survived by gender:\\n\", survival_percentage)"
      ],
      "metadata": {
        "colab": {
          "base_uri": "https://localhost:8080/"
        },
        "id": "uozPpXl78fRe",
        "outputId": "75a79732-67c9-41f9-b3a5-33654b9586cc"
      },
      "execution_count": 45,
      "outputs": [
        {
          "output_type": "stream",
          "name": "stdout",
          "text": [
            "Percentage of passengers who survived by gender:\n",
            " sex\n",
            "female    74.203822\n",
            "male      18.890815\n",
            "Name: survived, dtype: float64\n"
          ]
        }
      ]
    },
    {
      "cell_type": "code",
      "source": [
        "import pandas as pd\n",
        "\n",
        "\n",
        "\n",
        "# Calculate statistics for the 'Age' column\n",
        "average_age = df['age'].mean()\n",
        "median_age = df['age'].median()\n",
        "std_age = df['age'].std()\n",
        "\n",
        "print(f\"Average Age: {average_age:.2f}\")\n",
        "print(f\"Median Age: {median_age:.2f}\")\n",
        "print(f\"Standard Deviation of Age: {std_age:.2f}\")"
      ],
      "metadata": {
        "colab": {
          "base_uri": "https://localhost:8080/"
        },
        "id": "ovRqzZJV80fj",
        "outputId": "456fba4f-ff8d-476a-fc47-f872bbcd053e"
      },
      "execution_count": 44,
      "outputs": [
        {
          "output_type": "stream",
          "name": "stdout",
          "text": [
            "Average Age: 29.36\n",
            "Median Age: 28.00\n",
            "Standard Deviation of Age: 13.02\n"
          ]
        }
      ]
    },
    {
      "cell_type": "code",
      "source": [
        "import pandas as pd\n",
        "\n",
        "\n",
        "\n",
        "# Count the number of passengers in each class\n",
        "passengers_per_class = df['pclass'].value_counts().sort_index()\n",
        "\n",
        "print(\"Number of passengers in each class:\\n\", passengers_per_class)"
      ],
      "metadata": {
        "colab": {
          "base_uri": "https://localhost:8080/"
        },
        "id": "sVyCSvj_9HXv",
        "outputId": "8df5f690-a20e-4d63-d24e-2d06b2ccec95"
      },
      "execution_count": 43,
      "outputs": [
        {
          "output_type": "stream",
          "name": "stdout",
          "text": [
            "Number of passengers in each class:\n",
            " pclass\n",
            "1    216\n",
            "2    184\n",
            "3    491\n",
            "Name: count, dtype: int64\n"
          ]
        }
      ]
    },
    {
      "cell_type": "code",
      "source": [
        "import pandas as pd\n",
        "\n",
        "\n",
        "\n",
        "# Filter passengers: female, under 18, and survived\n",
        "filtered_passengers = df[(df['sex'] == 'female') & (df['age'] < 18) & (df['survived'] == 1)]\n",
        "\n",
        "# Display the result\n",
        "print(filtered_passengers)"
      ],
      "metadata": {
        "colab": {
          "base_uri": "https://localhost:8080/"
        },
        "id": "rRYcOLvf9dzY",
        "outputId": "8f7b4b75-ba34-4094-c043-f2817863d302"
      },
      "execution_count": 42,
      "outputs": [
        {
          "output_type": "stream",
          "name": "stdout",
          "text": [
            "     survived  pclass     sex    age  sibsp  parch      fare embarked   class  \\\n",
            "9           1       2  female  14.00      1      0   30.0708        C  Second   \n",
            "10          1       3  female   4.00      1      1   16.7000        S   Third   \n",
            "22          1       3  female  15.00      0      0    8.0292        Q   Third   \n",
            "39          1       3  female  14.00      1      0   11.2417        C   Third   \n",
            "43          1       2  female   3.00      1      2   41.5792        C  Second   \n",
            "58          1       2  female   5.00      1      2   27.7500        S  Second   \n",
            "68          1       3  female  17.00      4      2    7.9250        S   Third   \n",
            "84          1       2  female  17.00      0      0   10.5000        S  Second   \n",
            "156         1       3  female  16.00      0      0    7.7333        Q   Third   \n",
            "172         1       3  female   1.00      1      1   11.1333        S   Third   \n",
            "184         1       3  female   4.00      0      2   22.0250        S   Third   \n",
            "208         1       3  female  16.00      0      0    7.7500        Q   Third   \n",
            "233         1       3  female   5.00      4      2   31.3875        S   Third   \n",
            "237         1       2  female   8.00      0      2   26.2500        S  Second   \n",
            "307         1       1  female  17.00      1      0  108.9000        C   First   \n",
            "329         1       1  female  16.00      0      1   57.9792        C   First   \n",
            "381         1       3  female   1.00      0      2   15.7417        C   Third   \n",
            "389         1       2  female  17.00      0      0   12.0000        C  Second   \n",
            "435         1       1  female  14.00      1      2  120.0000        S   First   \n",
            "446         1       2  female  13.00      0      1   19.5000        S  Second   \n",
            "448         1       3  female   5.00      2      1   19.2583        C   Third   \n",
            "469         1       3  female   0.75      2      1   19.2583        C   Third   \n",
            "479         1       3  female   2.00      0      1   12.2875        S   Third   \n",
            "504         1       1  female  16.00      0      0   86.5000        S   First   \n",
            "530         1       2  female   2.00      1      1   26.0000        S  Second   \n",
            "535         1       2  female   7.00      0      2   26.2500        S  Second   \n",
            "618         1       2  female   4.00      2      1   39.0000        S  Second   \n",
            "644         1       3  female   0.75      2      1   19.2583        C   Third   \n",
            "689         1       1  female  15.00      0      1  211.3375        S   First   \n",
            "691         1       3  female   4.00      0      1   13.4167        C   Third   \n",
            "720         1       2  female   6.00      0      1   33.0000        S  Second   \n",
            "750         1       2  female   4.00      1      1   23.0000        S  Second   \n",
            "777         1       3  female   5.00      0      0   12.4750        S   Third   \n",
            "780         1       3  female  13.00      0      0    7.2292        C   Third   \n",
            "781         1       1  female  17.00      1      0   57.0000        S   First   \n",
            "830         1       3  female  15.00      1      0   14.4542        C   Third   \n",
            "853         1       1  female  16.00      0      1   39.4000        S   First   \n",
            "875         1       3  female  15.00      0      0    7.2250        C   Third   \n",
            "\n",
            "       who  adult_male deck  embark_town alive  alone age_group  \n",
            "9    child       False  NaN    Cherbourg   yes  False     Child  \n",
            "10   child       False    G  Southampton   yes  False     Child  \n",
            "22   child       False  NaN   Queenstown   yes   True     Child  \n",
            "39   child       False  NaN    Cherbourg   yes  False     Child  \n",
            "43   child       False  NaN    Cherbourg   yes  False     Child  \n",
            "58   child       False  NaN  Southampton   yes  False     Child  \n",
            "68   woman       False  NaN  Southampton   yes  False     Child  \n",
            "84   woman       False  NaN  Southampton   yes   True     Child  \n",
            "156  woman       False  NaN   Queenstown   yes   True     Child  \n",
            "172  child       False  NaN  Southampton   yes  False     Child  \n",
            "184  child       False  NaN  Southampton   yes  False     Child  \n",
            "208  woman       False  NaN   Queenstown   yes   True     Child  \n",
            "233  child       False  NaN  Southampton   yes  False     Child  \n",
            "237  child       False  NaN  Southampton   yes  False     Child  \n",
            "307  woman       False    C    Cherbourg   yes  False     Child  \n",
            "329  woman       False    B    Cherbourg   yes  False     Child  \n",
            "381  child       False  NaN    Cherbourg   yes  False     Child  \n",
            "389  woman       False  NaN    Cherbourg   yes   True     Child  \n",
            "435  child       False    B  Southampton   yes  False     Child  \n",
            "446  child       False  NaN  Southampton   yes  False     Child  \n",
            "448  child       False  NaN    Cherbourg   yes  False     Child  \n",
            "469  child       False  NaN    Cherbourg   yes  False     Child  \n",
            "479  child       False  NaN  Southampton   yes  False     Child  \n",
            "504  woman       False    B  Southampton   yes   True     Child  \n",
            "530  child       False  NaN  Southampton   yes  False     Child  \n",
            "535  child       False  NaN  Southampton   yes  False     Child  \n",
            "618  child       False    F  Southampton   yes  False     Child  \n",
            "644  child       False  NaN    Cherbourg   yes  False     Child  \n",
            "689  child       False    B  Southampton   yes  False     Child  \n",
            "691  child       False  NaN    Cherbourg   yes  False     Child  \n",
            "720  child       False  NaN  Southampton   yes  False     Child  \n",
            "750  child       False  NaN  Southampton   yes  False     Child  \n",
            "777  child       False  NaN  Southampton   yes   True     Child  \n",
            "780  child       False  NaN    Cherbourg   yes   True     Child  \n",
            "781  woman       False    B  Southampton   yes  False     Child  \n",
            "830  child       False  NaN    Cherbourg   yes  False     Child  \n",
            "853  woman       False    D  Southampton   yes  False     Child  \n",
            "875  child       False  NaN    Cherbourg   yes   True     Child  \n"
          ]
        }
      ]
    },
    {
      "cell_type": "code",
      "source": [
        "import pandas as pd\n",
        "\n",
        "\n",
        "# Replace missing Age values with the median\n",
        "df['age'].fillna(df['age'].median(), inplace=True)\n",
        "\n",
        "# Verify that there are no missing values left\n",
        "print(df['age'].isnull().sum())\n",
        "\n",
        "# Optional: Display first 10 rows to see the changes\n",
        "print(df.head(10))"
      ],
      "metadata": {
        "colab": {
          "base_uri": "https://localhost:8080/"
        },
        "id": "Jhhk_blw9xT8",
        "outputId": "10d9f5b9-2a32-4b7d-b2c9-68608e6a0009"
      },
      "execution_count": 41,
      "outputs": [
        {
          "output_type": "stream",
          "name": "stdout",
          "text": [
            "0\n",
            "   survived  pclass     sex   age  sibsp  parch     fare embarked   class  \\\n",
            "0         0       3    male  22.0      1      0   7.2500        S   Third   \n",
            "1         1       1  female  38.0      1      0  71.2833        C   First   \n",
            "2         1       3  female  26.0      0      0   7.9250        S   Third   \n",
            "3         1       1  female  35.0      1      0  53.1000        S   First   \n",
            "4         0       3    male  35.0      0      0   8.0500        S   Third   \n",
            "5         0       3    male  28.0      0      0   8.4583        Q   Third   \n",
            "6         0       1    male  54.0      0      0  51.8625        S   First   \n",
            "7         0       3    male   2.0      3      1  21.0750        S   Third   \n",
            "8         1       3  female  27.0      0      2  11.1333        S   Third   \n",
            "9         1       2  female  14.0      1      0  30.0708        C  Second   \n",
            "\n",
            "     who  adult_male deck  embark_town alive  alone age_group  \n",
            "0    man        True  NaN  Southampton    no  False     Adult  \n",
            "1  woman       False    C    Cherbourg   yes  False     Adult  \n",
            "2  woman       False  NaN  Southampton   yes   True     Adult  \n",
            "3  woman       False    C  Southampton   yes  False     Adult  \n",
            "4    man        True  NaN  Southampton    no   True     Adult  \n",
            "5    man        True  NaN   Queenstown    no   True     Adult  \n",
            "6    man        True    E  Southampton    no   True     Adult  \n",
            "7  child       False  NaN  Southampton    no  False     Child  \n",
            "8  woman       False  NaN  Southampton   yes  False     Adult  \n",
            "9  child       False  NaN    Cherbourg   yes  False     Child  \n"
          ]
        },
        {
          "output_type": "stream",
          "name": "stderr",
          "text": [
            "/tmp/ipython-input-1455819335.py:5: FutureWarning: A value is trying to be set on a copy of a DataFrame or Series through chained assignment using an inplace method.\n",
            "The behavior will change in pandas 3.0. This inplace method will never work because the intermediate object on which we are setting values always behaves as a copy.\n",
            "\n",
            "For example, when doing 'df[col].method(value, inplace=True)', try using 'df.method({col: value}, inplace=True)' or df[col] = df[col].method(value) instead, to perform the operation inplace on the original object.\n",
            "\n",
            "\n",
            "  df['age'].fillna(df['age'].median(), inplace=True)\n"
          ]
        }
      ]
    },
    {
      "cell_type": "code",
      "source": [
        "import pandas as pd\n",
        "import numpy as np\n",
        "\n",
        "# Using apply() with a custom function\n",
        "def assign_age_group(age):\n",
        "    if age < 18:\n",
        "        return 'Child'\n",
        "    elif age <= 60:\n",
        "        return 'Adult'\n",
        "    else:\n",
        "        return 'Senior'\n",
        "\n",
        "df['age_group'] = df['age'].apply(assign_age_group)\n",
        "\n",
        "# Display first 10 rows\n",
        "print(df[['age', 'age_group']].head(10))\n",
        "\n",
        "# Optional: Count of passengers in each age group\n",
        "print(\"\\nCount of passengers in each age group:\")\n",
        "print(df['age_group'].value_counts())"
      ],
      "metadata": {
        "colab": {
          "base_uri": "https://localhost:8080/"
        },
        "id": "a_7DZEcj_cBV",
        "outputId": "92742f75-3518-40fa-f5b7-9c36f6089273"
      },
      "execution_count": 40,
      "outputs": [
        {
          "output_type": "stream",
          "name": "stdout",
          "text": [
            "    age age_group\n",
            "0  22.0     Adult\n",
            "1  38.0     Adult\n",
            "2  26.0     Adult\n",
            "3  35.0     Adult\n",
            "4  35.0     Adult\n",
            "5  28.0     Adult\n",
            "6  54.0     Adult\n",
            "7   2.0     Child\n",
            "8  27.0     Adult\n",
            "9  14.0     Child\n",
            "\n",
            "Count of passengers in each age group:\n",
            "age_group\n",
            "Adult     756\n",
            "Child     113\n",
            "Senior     22\n",
            "Name: count, dtype: int64\n"
          ]
        }
      ]
    },
    {
      "cell_type": "code",
      "source": [
        "import pandas as pd\n",
        "\n",
        "\n",
        "\n",
        "# Sort passengers by Fare in descending order and get top 5\n",
        "top_fare_passengers = df.sort_values(by='fare', ascending=False).head(5)\n",
        "\n",
        "# Display relevant columns\n",
        "print(top_fare_passengers[['fare', 'pclass', 'sex', 'age',]])"
      ],
      "metadata": {
        "colab": {
          "base_uri": "https://localhost:8080/"
        },
        "id": "_BjtXSN4ACqf",
        "outputId": "71ca6d42-242a-42fa-9d22-720fc4908c3e"
      },
      "execution_count": 51,
      "outputs": [
        {
          "output_type": "stream",
          "name": "stdout",
          "text": [
            "         fare  pclass     sex   age\n",
            "679  512.3292       1    male  36.0\n",
            "258  512.3292       1  female  35.0\n",
            "737  512.3292       1    male  35.0\n",
            "88   263.0000       1  female  23.0\n",
            "438  263.0000       1    male  64.0\n"
          ]
        }
      ]
    },
    {
      "cell_type": "code",
      "source": [
        "import pandas as pd\n",
        "\n",
        "# Load the Titanic dataset\n",
        "# df = pd.read_csv('titanic.csv')  # replace with your file path if needed\n",
        "# The titanic dataset is already loaded into the 'df' DataFrame\n",
        "\n",
        "# Group by Pclass and Sex, then calculate average fare\n",
        "average_fare = df.groupby(['pclass', 'sex'])['fare'].mean()\n",
        "\n",
        "print(\"Average fare paid, grouped by Pclass and Sex:\\n\")\n",
        "print(average_fare)"
      ],
      "metadata": {
        "colab": {
          "base_uri": "https://localhost:8080/"
        },
        "id": "FBqUyeu5AuDV",
        "outputId": "76aab737-e449-400c-c1de-750bab1b4c44"
      },
      "execution_count": 53,
      "outputs": [
        {
          "output_type": "stream",
          "name": "stdout",
          "text": [
            "Average fare paid, grouped by Pclass and Sex:\n",
            "\n",
            "pclass  sex   \n",
            "1       female    106.125798\n",
            "        male       67.226127\n",
            "2       female     21.970121\n",
            "        male       19.741782\n",
            "3       female     16.118810\n",
            "        male       12.661633\n",
            "Name: fare, dtype: float64\n"
          ]
        }
      ]
    },
    {
      "cell_type": "code",
      "source": [
        "import pandas as pd\n",
        "\n",
        "# Load the Titanic dataset\n",
        "# df = pd.read_csv('titanic.csv')  # replace with your file path\n",
        "# The titanic dataset is already loaded into the 'df' DataFrame\n",
        "\n",
        "# Rename columns: 'sex' → 'gender', 'fare' → 'ticket_fare'\n",
        "df.rename(columns={'sex': 'gender', 'fare': 'ticket_fare'}, inplace=True)\n",
        "\n",
        "# Verify the column names\n",
        "print(df.columns)"
      ],
      "metadata": {
        "colab": {
          "base_uri": "https://localhost:8080/"
        },
        "id": "3Z2ZB_r1BIk4",
        "outputId": "e1570a20-5dfe-4ea0-eded-7162c2d681e6"
      },
      "execution_count": 56,
      "outputs": [
        {
          "output_type": "stream",
          "name": "stdout",
          "text": [
            "Index(['survived', 'pclass', 'gender', 'age', 'sibsp', 'parch', 'ticket_fare',\n",
            "       'embarked', 'class', 'who', 'adult_male', 'deck', 'embark_town',\n",
            "       'alive', 'alone', 'age_group'],\n",
            "      dtype='object')\n"
          ]
        }
      ]
    },
    {
      "cell_type": "code",
      "source": [
        "import pandas as pd\n",
        "\n",
        "# Load the Titanic dataset\n",
        "# df = pd.read_csv('titanic.csv')  # replace with your file path\n",
        "\n",
        "# Count passengers by Pclass and Survived\n",
        "survival_count = df.groupby('pclass')['survived'].value_counts().unstack()\n",
        "\n",
        "# Rename columns for clarity\n",
        "survival_count.columns = ['Did_not_Survive', 'Survived']\n",
        "\n",
        "print(survival_count)"
      ],
      "metadata": {
        "colab": {
          "base_uri": "https://localhost:8080/"
        },
        "id": "jWVOVfxZBWY3",
        "outputId": "88518370-1589-49da-8ef3-26e7a17d3817"
      },
      "execution_count": 58,
      "outputs": [
        {
          "output_type": "stream",
          "name": "stdout",
          "text": [
            "        Did_not_Survive  Survived\n",
            "pclass                           \n",
            "1                    80       136\n",
            "2                    97        87\n",
            "3                   372       119\n"
          ]
        }
      ]
    },
    {
      "cell_type": "code",
      "source": [
        "import pandas as pd\n",
        "\n",
        "# Load the Titanic dataset\n",
        "# df = pd.read_csv('titanic.csv')  # replace with your file path\n",
        "\n",
        "# Group by Pclass and Sex, then calculate average age\n",
        "average_age = df.groupby(['pclass', 'gender'])['age'].mean()\n",
        "\n",
        "print(\"Average age of passengers grouped by class and gender:\\n\")\n",
        "print(average_age)"
      ],
      "metadata": {
        "colab": {
          "base_uri": "https://localhost:8080/"
        },
        "id": "UpvkSmYvBiiW",
        "outputId": "8cacc839-5451-427b-aa87-c045d29c0d5f"
      },
      "execution_count": 61,
      "outputs": [
        {
          "output_type": "stream",
          "name": "stdout",
          "text": [
            "Average age of passengers grouped by class and gender:\n",
            "\n",
            "pclass  gender\n",
            "1       female    33.978723\n",
            "        male      38.995246\n",
            "2       female    28.703947\n",
            "        male      30.512315\n",
            "3       female    23.572917\n",
            "        male      26.911873\n",
            "Name: age, dtype: float64\n"
          ]
        }
      ]
    }
  ]
}